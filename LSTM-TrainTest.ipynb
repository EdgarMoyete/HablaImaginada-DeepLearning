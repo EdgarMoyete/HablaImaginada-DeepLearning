{
 "cells": [
  {
   "cell_type": "code",
   "execution_count": null,
   "metadata": {},
   "outputs": [],
   "source": [
    "#Edgar Moises Hernandez-Gonzalez\n",
    "#08/07/19\n",
    "#Clasificar EEG de habla imaginada con LSTM"
   ]
  },
  {
   "cell_type": "code",
   "execution_count": 1,
   "metadata": {},
   "outputs": [],
   "source": [
    "import pandas as pd\n",
    "from sklearn.model_selection import train_test_split\n",
    "from sklearn.preprocessing import StandardScaler\n",
    "from tensorflow.keras import layers, models\n",
    "import matplotlib.pyplot as plt"
   ]
  },
  {
   "cell_type": "code",
   "execution_count": 2,
   "metadata": {},
   "outputs": [
    {
     "name": "stdout",
     "output_type": "stream",
     "text": [
      "(132, 3072)\n",
      "(132,)\n",
      "132\n"
     ]
    }
   ],
   "source": [
    "datos = pd.read_csv(\"Submuestreo01.csv\", header=None)\n",
    "x = datos.iloc[:, 0:3072].values\n",
    "y = datos.iloc[:, 3072].values\n",
    "\n",
    "num_classes = 6\n",
    "n_samples = len(y)\n",
    "print(x.shape)\n",
    "print(y.shape)\n",
    "print(n_samples)"
   ]
  },
  {
   "cell_type": "code",
   "execution_count": 3,
   "metadata": {},
   "outputs": [],
   "source": [
    "#escalar los datos para que tengan media = 0 y desviacion estandar = 1\n",
    "scaler = StandardScaler().fit(x)\n",
    "x = scaler.transform(x)"
   ]
  },
  {
   "cell_type": "code",
   "execution_count": 4,
   "metadata": {},
   "outputs": [
    {
     "name": "stdout",
     "output_type": "stream",
     "text": [
      "(132, 512, 6)\n"
     ]
    }
   ],
   "source": [
    "#convertir de 2D a 3D\n",
    "x = x.reshape((n_samples, 512, 6))\n",
    "print(x.shape)"
   ]
  },
  {
   "cell_type": "code",
   "execution_count": 5,
   "metadata": {},
   "outputs": [],
   "source": [
    "#dividir en train y test\n",
    "x_train, x_test, y_train, y_test = train_test_split(x, y)"
   ]
  },
  {
   "cell_type": "code",
   "execution_count": 6,
   "metadata": {},
   "outputs": [
    {
     "name": "stdout",
     "output_type": "stream",
     "text": [
      "WARNING:tensorflow:From C:\\Users\\EdgarMoises\\Anaconda3\\lib\\site-packages\\tensorflow\\python\\ops\\resource_variable_ops.py:435: colocate_with (from tensorflow.python.framework.ops) is deprecated and will be removed in a future version.\n",
      "Instructions for updating:\n",
      "Colocations handled automatically by placer.\n",
      "WARNING:tensorflow:From C:\\Users\\EdgarMoises\\Anaconda3\\lib\\site-packages\\tensorflow\\python\\keras\\layers\\core.py:143: calling dropout (from tensorflow.python.ops.nn_ops) with keep_prob is deprecated and will be removed in a future version.\n",
      "Instructions for updating:\n",
      "Please use `rate` instead of `keep_prob`. Rate should be set to `rate = 1 - keep_prob`.\n"
     ]
    }
   ],
   "source": [
    "model = models.Sequential()\n",
    "model.add(layers.LSTM(32, input_shape=(512, 6)))\n",
    "model.add(layers.Dropout(0.2))\n",
    "model.add(layers.Dense(num_classes, activation='softmax'))"
   ]
  },
  {
   "cell_type": "code",
   "execution_count": 7,
   "metadata": {},
   "outputs": [
    {
     "name": "stdout",
     "output_type": "stream",
     "text": [
      "_________________________________________________________________\n",
      "Layer (type)                 Output Shape              Param #   \n",
      "=================================================================\n",
      "lstm (LSTM)                  (None, 32)                4992      \n",
      "_________________________________________________________________\n",
      "dropout (Dropout)            (None, 32)                0         \n",
      "_________________________________________________________________\n",
      "dense (Dense)                (None, 6)                 198       \n",
      "=================================================================\n",
      "Total params: 5,190\n",
      "Trainable params: 5,190\n",
      "Non-trainable params: 0\n",
      "_________________________________________________________________\n"
     ]
    }
   ],
   "source": [
    "model.summary()"
   ]
  },
  {
   "cell_type": "code",
   "execution_count": 8,
   "metadata": {},
   "outputs": [],
   "source": [
    "model.compile(optimizer='adam', loss='sparse_categorical_crossentropy', metrics=['accuracy'])"
   ]
  },
  {
   "cell_type": "code",
   "execution_count": 9,
   "metadata": {},
   "outputs": [
    {
     "name": "stdout",
     "output_type": "stream",
     "text": [
      "Train on 99 samples, validate on 33 samples\n",
      "Epoch 1/40\n",
      "99/99 [==============================] - 8s 80ms/sample - loss: 1.7820 - acc: 0.1616 - val_loss: 1.8132 - val_acc: 0.1212\n",
      "Epoch 2/40\n",
      "99/99 [==============================] - 6s 58ms/sample - loss: 1.7755 - acc: 0.2424 - val_loss: 1.8149 - val_acc: 0.0909\n",
      "Epoch 3/40\n",
      "99/99 [==============================] - 6s 60ms/sample - loss: 1.7745 - acc: 0.2121 - val_loss: 1.8173 - val_acc: 0.0909\n",
      "Epoch 4/40\n",
      "99/99 [==============================] - 6s 58ms/sample - loss: 1.7723 - acc: 0.2525 - val_loss: 1.8196 - val_acc: 0.0909\n",
      "Epoch 5/40\n",
      "99/99 [==============================] - 6s 59ms/sample - loss: 1.7599 - acc: 0.2323 - val_loss: 1.8220 - val_acc: 0.0909\n",
      "Epoch 6/40\n",
      "99/99 [==============================] - 6s 59ms/sample - loss: 1.7586 - acc: 0.2222 - val_loss: 1.8247 - val_acc: 0.1212\n",
      "Epoch 7/40\n",
      "99/99 [==============================] - 6s 63ms/sample - loss: 1.7587 - acc: 0.2727 - val_loss: 1.8276 - val_acc: 0.1212\n",
      "Epoch 8/40\n",
      "99/99 [==============================] - 6s 61ms/sample - loss: 1.7596 - acc: 0.2929 - val_loss: 1.8302 - val_acc: 0.1212\n",
      "Epoch 9/40\n",
      "99/99 [==============================] - 6s 61ms/sample - loss: 1.7541 - acc: 0.2626 - val_loss: 1.8329 - val_acc: 0.1515\n",
      "Epoch 10/40\n",
      "99/99 [==============================] - 5s 53ms/sample - loss: 1.7432 - acc: 0.2626 - val_loss: 1.8358 - val_acc: 0.1515\n",
      "Epoch 11/40\n",
      "99/99 [==============================] - 6s 62ms/sample - loss: 1.7327 - acc: 0.2525 - val_loss: 1.8391 - val_acc: 0.1515\n",
      "Epoch 12/40\n",
      "99/99 [==============================] - 5s 54ms/sample - loss: 1.7382 - acc: 0.3232 - val_loss: 1.8423 - val_acc: 0.1515\n",
      "Epoch 13/40\n",
      "99/99 [==============================] - 5s 52ms/sample - loss: 1.7373 - acc: 0.3131 - val_loss: 1.8461 - val_acc: 0.1515\n",
      "Epoch 14/40\n",
      "99/99 [==============================] - 5s 52ms/sample - loss: 1.7170 - acc: 0.2626 - val_loss: 1.8504 - val_acc: 0.1515\n",
      "Epoch 15/40\n",
      "99/99 [==============================] - 5s 51ms/sample - loss: 1.7049 - acc: 0.3434 - val_loss: 1.8547 - val_acc: 0.1515\n",
      "Epoch 16/40\n",
      "99/99 [==============================] - 5s 49ms/sample - loss: 1.7181 - acc: 0.2929 - val_loss: 1.8605 - val_acc: 0.1515\n",
      "Epoch 17/40\n",
      "99/99 [==============================] - 5s 54ms/sample - loss: 1.7039 - acc: 0.3131 - val_loss: 1.8661 - val_acc: 0.1515\n",
      "Epoch 18/40\n",
      "99/99 [==============================] - 5s 52ms/sample - loss: 1.7194 - acc: 0.3030 - val_loss: 1.8718 - val_acc: 0.1515\n",
      "Epoch 19/40\n",
      "99/99 [==============================] - 5s 55ms/sample - loss: 1.7159 - acc: 0.3131 - val_loss: 1.8779 - val_acc: 0.1515\n",
      "Epoch 20/40\n",
      "99/99 [==============================] - 5s 55ms/sample - loss: 1.7008 - acc: 0.3131 - val_loss: 1.8842 - val_acc: 0.1515\n",
      "Epoch 21/40\n",
      "99/99 [==============================] - 5s 53ms/sample - loss: 1.7080 - acc: 0.3030 - val_loss: 1.8873 - val_acc: 0.1515\n",
      "Epoch 22/40\n",
      "99/99 [==============================] - 5s 55ms/sample - loss: 1.7083 - acc: 0.2929 - val_loss: 1.8917 - val_acc: 0.1515\n",
      "Epoch 23/40\n",
      "99/99 [==============================] - 6s 57ms/sample - loss: 1.6966 - acc: 0.3131 - val_loss: 1.8947 - val_acc: 0.1515\n",
      "Epoch 24/40\n",
      "99/99 [==============================] - 5s 55ms/sample - loss: 1.7021 - acc: 0.2727 - val_loss: 1.8973 - val_acc: 0.1515\n",
      "Epoch 25/40\n",
      "99/99 [==============================] - 6s 56ms/sample - loss: 1.7018 - acc: 0.2828 - val_loss: 1.9003 - val_acc: 0.1515\n",
      "Epoch 26/40\n",
      "99/99 [==============================] - 5s 54ms/sample - loss: 1.7161 - acc: 0.2626 - val_loss: 1.9018 - val_acc: 0.1515\n",
      "Epoch 27/40\n",
      "99/99 [==============================] - 5s 54ms/sample - loss: 1.7009 - acc: 0.3535 - val_loss: 1.9040 - val_acc: 0.1515\n",
      "Epoch 28/40\n",
      "99/99 [==============================] - 5s 54ms/sample - loss: 1.6908 - acc: 0.3232 - val_loss: 1.9072 - val_acc: 0.1515\n",
      "Epoch 29/40\n",
      "99/99 [==============================] - 5s 54ms/sample - loss: 1.6660 - acc: 0.3535 - val_loss: 1.9117 - val_acc: 0.1515\n",
      "Epoch 30/40\n",
      "99/99 [==============================] - 5s 54ms/sample - loss: 1.6634 - acc: 0.3131 - val_loss: 1.9209 - val_acc: 0.1515\n",
      "Epoch 31/40\n",
      "99/99 [==============================] - 5s 52ms/sample - loss: 1.6632 - acc: 0.3131 - val_loss: 1.9289 - val_acc: 0.1515\n",
      "Epoch 32/40\n",
      "99/99 [==============================] - 5s 47ms/sample - loss: 1.6569 - acc: 0.3131 - val_loss: 1.9397 - val_acc: 0.1515\n",
      "Epoch 33/40\n",
      "99/99 [==============================] - 5s 48ms/sample - loss: 1.6502 - acc: 0.3535 - val_loss: 1.9538 - val_acc: 0.1515\n",
      "Epoch 34/40\n",
      "99/99 [==============================] - 5s 54ms/sample - loss: 1.6579 - acc: 0.3535 - val_loss: 1.9700 - val_acc: 0.1212\n",
      "Epoch 35/40\n",
      "99/99 [==============================] - 6s 56ms/sample - loss: 1.6551 - acc: 0.3232 - val_loss: 1.9715 - val_acc: 0.1515\n",
      "Epoch 36/40\n",
      "99/99 [==============================] - 5s 55ms/sample - loss: 1.6584 - acc: 0.3333 - val_loss: 1.9834 - val_acc: 0.1212\n",
      "Epoch 37/40\n",
      "99/99 [==============================] - 5s 54ms/sample - loss: 1.6282 - acc: 0.3636 - val_loss: 1.9787 - val_acc: 0.0909\n",
      "Epoch 38/40\n",
      "99/99 [==============================] - 6s 57ms/sample - loss: 1.6341 - acc: 0.3737 - val_loss: 1.9840 - val_acc: 0.0606\n",
      "Epoch 39/40\n",
      "99/99 [==============================] - 6s 61ms/sample - loss: 1.6342 - acc: 0.3636 - val_loss: 2.0165 - val_acc: 0.0909\n",
      "Epoch 40/40\n",
      "99/99 [==============================] - 6s 62ms/sample - loss: 1.6326 - acc: 0.3030 - val_loss: 2.0421 - val_acc: 0.0606\n"
     ]
    }
   ],
   "source": [
    "history = model.fit(x_train, y_train, epochs = 40, batch_size = 33, validation_data=(x_test, y_test))"
   ]
  },
  {
   "cell_type": "code",
   "execution_count": 10,
   "metadata": {},
   "outputs": [
    {
     "name": "stdout",
     "output_type": "stream",
     "text": [
      "33/33 [==============================] - 2s 46ms/sample - loss: 2.0421 - acc: 0.0606\n",
      "Test loss: 2.042050903493708\n",
      "Test accuracy: 0.060606062\n"
     ]
    }
   ],
   "source": [
    "score = model.evaluate(x_test, y_test)\n",
    "print('Test loss:', score[0])\n",
    "print('Test accuracy:', score[1])"
   ]
  },
  {
   "cell_type": "code",
   "execution_count": 11,
   "metadata": {},
   "outputs": [
    {
     "data": {
      "image/png": "[encoded data removed]",
      "text/plain": [
       "<Figure size 432x288 with 1 Axes>"
      ]
     },
     "metadata": {
      "needs_background": "light"
     },
     "output_type": "display_data"
    }
   ],
   "source": [
    "plt.plot(history.history['acc'])\n",
    "plt.plot(history.history['val_acc'])\n",
    "plt.grid()\n",
    "plt.xlabel('Epocas')\n",
    "plt.ylabel('Accuracy')\n",
    "plt.legend(['train', 'test'])\n",
    "plt.show()"
   ]
  },
  {
   "cell_type": "code",
   "execution_count": 12,
   "metadata": {},
   "outputs": [
    {
     "data": {
      "image/png": "[encoded data removed]",
      "text/plain": [
       "<Figure size 432x288 with 1 Axes>"
      ]
     },
     "metadata": {
      "needs_background": "light"
     },
     "output_type": "display_data"
    }
   ],
   "source": [
    "plt.plot(history.history['loss'])\n",
    "plt.plot(history.history['val_loss'])\n",
    "plt.grid()\n",
    "plt.xlabel('Epocas')\n",
    "plt.ylabel('Entropia Cruzada')\n",
    "plt.legend(['train', 'test'])\n",
    "plt.show()"
   ]
  }
 ],
 "metadata": {
  "kernelspec": {
   "display_name": "Python 3",
   "language": "python",
   "name": "python3"
  },
  "language_info": {
   "codemirror_mode": {
    "name": "ipython",
    "version": 3
   },
   "file_extension": ".py",
   "mimetype": "text/x-python",
   "name": "python",
   "nbconvert_exporter": "python",
   "pygments_lexer": "ipython3",
   "version": "3.7.3"
  }
 },
 "nbformat": 4,
 "nbformat_minor": 2
}
