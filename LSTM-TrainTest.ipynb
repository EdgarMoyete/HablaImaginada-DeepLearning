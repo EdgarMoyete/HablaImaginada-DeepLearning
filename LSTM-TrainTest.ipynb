{
 "cells": [
  {
   "cell_type": "code",
   "execution_count": 1,
   "metadata": {},
   "outputs": [],
   "source": [
    "#Edgar Moises Hernandez-Gonzalez\n",
    "#08/07/19-16/12/19\n",
    "#Clasificar habla imaginada en EEG sin parpadeo con LSTM"
   ]
  },
  {
   "cell_type": "code",
   "execution_count": 1,
   "metadata": {},
   "outputs": [],
   "source": [
    "import numpy as np\n",
    "import pandas as pd\n",
    "import matplotlib.pyplot as plt\n",
    "from sklearn.model_selection import train_test_split\n",
    "from sklearn.preprocessing import MinMaxScaler\n",
    "from tensorflow.keras.models import Sequential\n",
    "from tensorflow.keras.layers import LSTM, Dropout, Dense"
   ]
  },
  {
   "cell_type": "code",
   "execution_count": 2,
   "metadata": {},
   "outputs": [],
   "source": [
    "datos = pd.read_csv(\"Submuestreo01.csv\", header=None)\n",
    "x = datos.iloc[:, 0:3072]\n",
    "y = datos.iloc[:, 3072]"
   ]
  },
  {
   "cell_type": "code",
   "execution_count": 3,
   "metadata": {},
   "outputs": [
    {
     "name": "stdout",
     "output_type": "stream",
     "text": [
      "(132, 3072)\n",
      "(132,)\n"
     ]
    }
   ],
   "source": [
    "print(x.shape)\n",
    "print(y.shape)"
   ]
  },
  {
   "cell_type": "code",
   "execution_count": 4,
   "metadata": {},
   "outputs": [
    {
     "name": "stdout",
     "output_type": "stream",
     "text": [
      "n_samples: 132\n"
     ]
    }
   ],
   "source": [
    "n_samples = len(y)\n",
    "print(\"n_samples:\", n_samples)"
   ]
  },
  {
   "cell_type": "code",
   "execution_count": 5,
   "metadata": {},
   "outputs": [
    {
     "name": "stdout",
     "output_type": "stream",
     "text": [
      "n_classes: 6\n"
     ]
    }
   ],
   "source": [
    "n_classes = len(np.unique(y))\n",
    "print(\"n_classes:\", n_classes)"
   ]
  },
  {
   "cell_type": "code",
   "execution_count": 7,
   "metadata": {},
   "outputs": [],
   "source": [
    "#escalar los valores en un rango [-1, 1] porque se utiliza tanh\n",
    "x = MinMaxScaler(feature_range=(-1,1)).fit_transform(x)"
   ]
  },
  {
   "cell_type": "code",
   "execution_count": 8,
   "metadata": {},
   "outputs": [
    {
     "name": "stdout",
     "output_type": "stream",
     "text": [
      "(132, 6, 512)\n"
     ]
    }
   ],
   "source": [
    "#convertir de 2D a 3D\n",
    "x = x.reshape((n_samples, 6, 512))\n",
    "print(x.shape)"
   ]
  },
  {
   "cell_type": "code",
   "execution_count": 9,
   "metadata": {},
   "outputs": [
    {
     "name": "stdout",
     "output_type": "stream",
     "text": [
      "(132, 512, 6)\n"
     ]
    }
   ],
   "source": [
    "x = np.transpose(x, (0,2,1))\n",
    "\n",
    "print(x.shape)"
   ]
  },
  {
   "cell_type": "code",
   "execution_count": 10,
   "metadata": {},
   "outputs": [],
   "source": [
    "#dividir en train y test\n",
    "x_train, x_test, y_train, y_test = train_test_split(x, y)"
   ]
  },
  {
   "cell_type": "code",
   "execution_count": 33,
   "metadata": {},
   "outputs": [],
   "source": [
    "model = Sequential()\n",
    "model.add(LSTM(16, input_shape=(512, 6)))\n",
    "model.add(Dropout(0.2))\n",
    "model.add(Dense(n_classes, activation='softmax'))"
   ]
  },
  {
   "cell_type": "code",
   "execution_count": 34,
   "metadata": {},
   "outputs": [],
   "source": [
    "model.compile(optimizer='adam', loss='sparse_categorical_crossentropy', metrics=['accuracy'])"
   ]
  },
  {
   "cell_type": "code",
   "execution_count": 35,
   "metadata": {},
   "outputs": [
    {
     "name": "stdout",
     "output_type": "stream",
     "text": [
      "_________________________________________________________________\n",
      "Layer (type)                 Output Shape              Param #   \n",
      "=================================================================\n",
      "lstm_4 (LSTM)                (None, 16)                1472      \n",
      "_________________________________________________________________\n",
      "dropout_5 (Dropout)          (None, 16)                0         \n",
      "_________________________________________________________________\n",
      "dense_4 (Dense)              (None, 6)                 102       \n",
      "=================================================================\n",
      "Total params: 1,574\n",
      "Trainable params: 1,574\n",
      "Non-trainable params: 0\n",
      "_________________________________________________________________\n"
     ]
    }
   ],
   "source": [
    "model.summary()"
   ]
  },
  {
   "cell_type": "code",
   "execution_count": 36,
   "metadata": {},
   "outputs": [
    {
     "name": "stdout",
     "output_type": "stream",
     "text": [
      "Train on 99 samples, validate on 33 samples\n",
      "Epoch 1/20\n",
      "99/99 [==============================] - 6s 65ms/sample - loss: 1.8297 - acc: 0.1313 - val_loss: 1.7905 - val_acc: 0.0909\n",
      "Epoch 2/20\n",
      "99/99 [==============================] - 5s 47ms/sample - loss: 1.8185 - acc: 0.1414 - val_loss: 1.7911 - val_acc: 0.0909\n",
      "Epoch 3/20\n",
      "99/99 [==============================] - 4s 43ms/sample - loss: 1.8273 - acc: 0.1010 - val_loss: 1.7919 - val_acc: 0.0909\n",
      "Epoch 4/20\n",
      "99/99 [==============================] - 5s 46ms/sample - loss: 1.8187 - acc: 0.1616 - val_loss: 1.7932 - val_acc: 0.0909\n",
      "Epoch 5/20\n",
      "99/99 [==============================] - 5s 47ms/sample - loss: 1.8063 - acc: 0.1818 - val_loss: 1.7943 - val_acc: 0.0909\n",
      "Epoch 6/20\n",
      "99/99 [==============================] - 5s 50ms/sample - loss: 1.8057 - acc: 0.1717 - val_loss: 1.7953 - val_acc: 0.1212\n",
      "Epoch 7/20\n",
      "99/99 [==============================] - 5s 48ms/sample - loss: 1.7979 - acc: 0.1313 - val_loss: 1.7961 - val_acc: 0.1212\n",
      "Epoch 8/20\n",
      "99/99 [==============================] - 5s 46ms/sample - loss: 1.7997 - acc: 0.2323 - val_loss: 1.7969 - val_acc: 0.1515\n",
      "Epoch 9/20\n",
      "99/99 [==============================] - 4s 44ms/sample - loss: 1.8062 - acc: 0.1515 - val_loss: 1.7976 - val_acc: 0.1515\n",
      "Epoch 10/20\n",
      "99/99 [==============================] - 4s 44ms/sample - loss: 1.8022 - acc: 0.1818 - val_loss: 1.7982 - val_acc: 0.1515\n",
      "Epoch 11/20\n",
      "99/99 [==============================] - 4s 45ms/sample - loss: 1.8038 - acc: 0.1515 - val_loss: 1.7988 - val_acc: 0.1515\n",
      "Epoch 12/20\n",
      "99/99 [==============================] - 5s 47ms/sample - loss: 1.7945 - acc: 0.1717 - val_loss: 1.7997 - val_acc: 0.2121\n",
      "Epoch 13/20\n",
      "99/99 [==============================] - 4s 44ms/sample - loss: 1.8043 - acc: 0.2020 - val_loss: 1.7998 - val_acc: 0.2121\n",
      "Epoch 14/20\n",
      "99/99 [==============================] - 5s 53ms/sample - loss: 1.8060 - acc: 0.1616 - val_loss: 1.8000 - val_acc: 0.2121\n",
      "Epoch 15/20\n",
      "99/99 [==============================] - 5s 52ms/sample - loss: 1.7987 - acc: 0.1414 - val_loss: 1.8002 - val_acc: 0.2121\n",
      "Epoch 16/20\n",
      "99/99 [==============================] - 4s 45ms/sample - loss: 1.8036 - acc: 0.1717 - val_loss: 1.8006 - val_acc: 0.2121\n",
      "Epoch 17/20\n",
      "99/99 [==============================] - 5s 47ms/sample - loss: 1.7910 - acc: 0.1919 - val_loss: 1.8010 - val_acc: 0.2121\n",
      "Epoch 18/20\n",
      "99/99 [==============================] - 4s 44ms/sample - loss: 1.7896 - acc: 0.2121 - val_loss: 1.8014 - val_acc: 0.2121\n",
      "Epoch 19/20\n",
      "99/99 [==============================] - 5s 48ms/sample - loss: 1.7846 - acc: 0.2222 - val_loss: 1.8020 - val_acc: 0.2121\n",
      "Epoch 20/20\n",
      "99/99 [==============================] - 5s 46ms/sample - loss: 1.7926 - acc: 0.1818 - val_loss: 1.8028 - val_acc: 0.2121\n"
     ]
    }
   ],
   "source": [
    "history = model.fit(x_train, y_train, epochs = 20, batch_size = 64, validation_data=(x_test, y_test))"
   ]
  },
  {
   "cell_type": "code",
   "execution_count": 37,
   "metadata": {},
   "outputs": [
    {
     "name": "stdout",
     "output_type": "stream",
     "text": [
      "33/33 [==============================] - 2s 50ms/sample - loss: 1.8028 - acc: 0.2121\n",
      "Test loss: 1.8028343771443223\n",
      "Test accuracy: 0.21212122\n"
     ]
    }
   ],
   "source": [
    "score = model.evaluate(x_test, y_test)\n",
    "print('Test loss:', score[0])\n",
    "print('Test accuracy:', score[1])"
   ]
  },
  {
   "cell_type": "code",
   "execution_count": 38,
   "metadata": {},
   "outputs": [
    {
     "data": {
      "image/png": "[encoded data removed]",
      "text/plain": [
       "<Figure size 432x288 with 1 Axes>"
      ]
     },
     "metadata": {
      "needs_background": "light"
     },
     "output_type": "display_data"
    }
   ],
   "source": [
    "plt.plot(history.history['acc'])\n",
    "plt.plot(history.history['val_acc'])\n",
    "plt.grid()\n",
    "plt.xlabel('Epocas')\n",
    "plt.ylabel('Accuracy')\n",
    "plt.legend(['train', 'test'])\n",
    "plt.show()"
   ]
  },
  {
   "cell_type": "code",
   "execution_count": 39,
   "metadata": {},
   "outputs": [
    {
     "data": {
      "image/png": "[encoded data removed]",
      "text/plain": [
       "<Figure size 432x288 with 1 Axes>"
      ]
     },
     "metadata": {
      "needs_background": "light"
     },
     "output_type": "display_data"
    }
   ],
   "source": [
    "plt.plot(history.history['loss'])\n",
    "plt.plot(history.history['val_loss'])\n",
    "plt.grid()\n",
    "plt.xlabel('Epocas')\n",
    "plt.ylabel('Entropia Cruzada')\n",
    "plt.legend(['train', 'test'])\n",
    "plt.show()"
   ]
  }
 ],
 "metadata": {
  "kernelspec": {
   "display_name": "Python 3",
   "language": "python",
   "name": "python3"
  },
  "language_info": {
   "codemirror_mode": {
    "name": "ipython",
    "version": 3
   },
   "file_extension": ".py",
   "mimetype": "text/x-python",
   "name": "python",
   "nbconvert_exporter": "python",
   "pygments_lexer": "ipython3",
   "version": "3.7.3"
  }
 },
 "nbformat": 4,
 "nbformat_minor": 2
}
