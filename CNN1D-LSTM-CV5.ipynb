{
 "cells": [
  {
   "cell_type": "code",
   "execution_count": 1,
   "metadata": {},
   "outputs": [],
   "source": [
    "#Edgar Moises Hernandez-Gonzalez\n",
    "#08/07/19-17/12/19\n",
    "#Clasificar habla imaginada en EEG con CNN y LSTM, con CV=5"
   ]
  },
  {
   "cell_type": "code",
   "execution_count": 1,
   "metadata": {},
   "outputs": [],
   "source": [
    "import numpy as np\n",
    "import pandas as pd\n",
    "import matplotlib.pyplot as plt\n",
    "from sklearn.model_selection import StratifiedKFold\n",
    "from sklearn.preprocessing import StandardScaler\n",
    "from tensorflow.keras.models import Sequential\n",
    "from tensorflow.keras.layers import TimeDistributed, Conv1D, MaxPool1D, Dropout, Flatten, LSTM, Dense"
   ]
  },
  {
   "cell_type": "code",
   "execution_count": 2,
   "metadata": {},
   "outputs": [],
   "source": [
    "datos = pd.read_csv(\"Submuestreo01.csv\", header=None)\n",
    "x = datos.iloc[:, 0:3072]\n",
    "y = datos.iloc[:, 3072]"
   ]
  },
  {
   "cell_type": "code",
   "execution_count": 3,
   "metadata": {},
   "outputs": [
    {
     "name": "stdout",
     "output_type": "stream",
     "text": [
      "(132, 3072)\n",
      "(132,)\n"
     ]
    }
   ],
   "source": [
    "print(x.shape)\n",
    "print(y.shape)"
   ]
  },
  {
   "cell_type": "code",
   "execution_count": 4,
   "metadata": {},
   "outputs": [
    {
     "name": "stdout",
     "output_type": "stream",
     "text": [
      "n_samples: 132\n"
     ]
    }
   ],
   "source": [
    "n_samples = len(y)\n",
    "print(\"n_samples:\", n_samples)"
   ]
  },
  {
   "cell_type": "code",
   "execution_count": 5,
   "metadata": {},
   "outputs": [
    {
     "name": "stdout",
     "output_type": "stream",
     "text": [
      "n_classes: 6\n"
     ]
    }
   ],
   "source": [
    "n_classes = len(np.unique(y))\n",
    "print(\"n_classes:\", n_classes)"
   ]
  },
  {
   "cell_type": "code",
   "execution_count": 6,
   "metadata": {},
   "outputs": [],
   "source": [
    "#escalar los datos para que tengan media = 0 y desviacion estandar = 1\n",
    "x = StandardScaler().fit_transform(x)"
   ]
  },
  {
   "cell_type": "code",
   "execution_count": 7,
   "metadata": {},
   "outputs": [
    {
     "name": "stdout",
     "output_type": "stream",
     "text": [
      "(132, 1, 6, 512)\n"
     ]
    }
   ],
   "source": [
    "#convertir de 2D a 4D\n",
    "x = x.reshape((n_samples, 1, 6, 512))\n",
    "print(x.shape)"
   ]
  },
  {
   "cell_type": "code",
   "execution_count": 8,
   "metadata": {},
   "outputs": [
    {
     "name": "stdout",
     "output_type": "stream",
     "text": [
      "(132, 1, 512, 6)\n"
     ]
    }
   ],
   "source": [
    "x = np.transpose(x, (0,1,3,2))\n",
    "print(x.shape)"
   ]
  },
  {
   "cell_type": "code",
   "execution_count": 9,
   "metadata": {},
   "outputs": [],
   "source": [
    "skf = StratifiedKFold(n_splits = 5)"
   ]
  },
  {
   "cell_type": "code",
   "execution_count": 11,
   "metadata": {},
   "outputs": [
    {
     "name": "stdout",
     "output_type": "stream",
     "text": [
      "\n",
      "Iteracion: 1\n",
      "WARNING:tensorflow:From C:\\Users\\EdgarMoises\\Anaconda3\\lib\\site-packages\\tensorflow\\python\\ops\\resource_variable_ops.py:435: colocate_with (from tensorflow.python.framework.ops) is deprecated and will be removed in a future version.\n",
      "Instructions for updating:\n",
      "Colocations handled automatically by placer.\n",
      "WARNING:tensorflow:From C:\\Users\\EdgarMoises\\Anaconda3\\lib\\site-packages\\tensorflow\\python\\keras\\layers\\core.py:143: calling dropout (from tensorflow.python.ops.nn_ops) with keep_prob is deprecated and will be removed in a future version.\n",
      "Instructions for updating:\n",
      "Please use `rate` instead of `keep_prob`. Rate should be set to `rate = 1 - keep_prob`.\n",
      "Train on 103 samples, validate on 29 samples\n",
      "Epoch 1/20\n",
      "103/103 [==============================] - 8s 75ms/sample - loss: 1.8490 - acc: 0.1942 - val_loss: 1.7879 - val_acc: 0.2069\n",
      "Epoch 2/20\n",
      "103/103 [==============================] - 0s 1ms/sample - loss: 1.7324 - acc: 0.2233 - val_loss: 1.7990 - val_acc: 0.2069\n",
      "Epoch 3/20\n",
      "103/103 [==============================] - 0s 2ms/sample - loss: 1.7140 - acc: 0.2913 - val_loss: 1.8127 - val_acc: 0.2069\n",
      "Epoch 4/20\n",
      "103/103 [==============================] - 0s 2ms/sample - loss: 1.5515 - acc: 0.4757 - val_loss: 1.8147 - val_acc: 0.2069\n",
      "Epoch 5/20\n",
      "103/103 [==============================] - 0s 2ms/sample - loss: 1.3838 - acc: 0.5534 - val_loss: 1.8408 - val_acc: 0.1034\n",
      "Epoch 6/20\n",
      "103/103 [==============================] - 0s 2ms/sample - loss: 1.1857 - acc: 0.6699 - val_loss: 1.8781 - val_acc: 0.2069\n",
      "Epoch 7/20\n",
      "103/103 [==============================] - 0s 2ms/sample - loss: 1.0187 - acc: 0.7767 - val_loss: 1.9213 - val_acc: 0.2069\n",
      "Epoch 8/20\n",
      "103/103 [==============================] - 0s 2ms/sample - loss: 0.8909 - acc: 0.8641 - val_loss: 2.0001 - val_acc: 0.1724\n",
      "Epoch 9/20\n",
      "103/103 [==============================] - 0s 2ms/sample - loss: 0.7692 - acc: 0.9126 - val_loss: 2.0588 - val_acc: 0.1379\n",
      "Epoch 10/20\n",
      "103/103 [==============================] - 0s 2ms/sample - loss: 0.6284 - acc: 0.9417 - val_loss: 2.1152 - val_acc: 0.1379\n",
      "Epoch 11/20\n",
      "103/103 [==============================] - 0s 2ms/sample - loss: 0.5536 - acc: 0.9515 - val_loss: 2.1461 - val_acc: 0.1724\n",
      "Epoch 12/20\n",
      "103/103 [==============================] - 0s 2ms/sample - loss: 0.4402 - acc: 0.9709 - val_loss: 2.2038 - val_acc: 0.2069\n",
      "Epoch 13/20\n",
      "103/103 [==============================] - 0s 2ms/sample - loss: 0.3563 - acc: 0.9806 - val_loss: 2.2692 - val_acc: 0.1379\n",
      "Epoch 14/20\n",
      "103/103 [==============================] - 0s 2ms/sample - loss: 0.3070 - acc: 0.9903 - val_loss: 2.3306 - val_acc: 0.1724\n",
      "Epoch 15/20\n",
      "103/103 [==============================] - 0s 2ms/sample - loss: 0.2434 - acc: 0.9903 - val_loss: 2.3685 - val_acc: 0.1724\n",
      "Epoch 16/20\n",
      "103/103 [==============================] - 0s 2ms/sample - loss: 0.2206 - acc: 0.9903 - val_loss: 2.4709 - val_acc: 0.2069\n",
      "Epoch 17/20\n",
      "103/103 [==============================] - 0s 2ms/sample - loss: 0.1856 - acc: 0.9903 - val_loss: 2.5326 - val_acc: 0.2069\n",
      "Epoch 18/20\n",
      "103/103 [==============================] - 0s 2ms/sample - loss: 0.1654 - acc: 1.0000 - val_loss: 2.5842 - val_acc: 0.1379\n",
      "Epoch 19/20\n",
      "103/103 [==============================] - 0s 2ms/sample - loss: 0.1519 - acc: 1.0000 - val_loss: 2.6869 - val_acc: 0.1724\n",
      "Epoch 20/20\n",
      "103/103 [==============================] - 0s 2ms/sample - loss: 0.1107 - acc: 1.0000 - val_loss: 2.8098 - val_acc: 0.1724\n",
      "29/29 [==============================] - 0s 492us/sample - loss: 2.8098 - acc: 0.1724\n",
      "\n",
      "Iteracion: 2\n",
      "Train on 105 samples, validate on 27 samples\n",
      "Epoch 1/20\n",
      "105/105 [==============================] - 3s 31ms/sample - loss: 1.8148 - acc: 0.1619 - val_loss: 1.8189 - val_acc: 0.1852\n",
      "Epoch 2/20\n",
      "105/105 [==============================] - 0s 2ms/sample - loss: 1.7740 - acc: 0.2286 - val_loss: 1.7785 - val_acc: 0.2593\n",
      "Epoch 3/20\n",
      "105/105 [==============================] - 0s 2ms/sample - loss: 1.6112 - acc: 0.3524 - val_loss: 1.7959 - val_acc: 0.1852\n",
      "Epoch 4/20\n",
      "105/105 [==============================] - 0s 2ms/sample - loss: 1.5690 - acc: 0.4095 - val_loss: 1.8047 - val_acc: 0.1852\n",
      "Epoch 5/20\n",
      "105/105 [==============================] - 0s 2ms/sample - loss: 1.4754 - acc: 0.4667 - val_loss: 1.7902 - val_acc: 0.2222\n",
      "Epoch 6/20\n",
      "105/105 [==============================] - 0s 2ms/sample - loss: 1.4231 - acc: 0.5143 - val_loss: 1.7984 - val_acc: 0.1852\n",
      "Epoch 7/20\n",
      "105/105 [==============================] - 0s 2ms/sample - loss: 1.2791 - acc: 0.6095 - val_loss: 1.8147 - val_acc: 0.2593\n",
      "Epoch 8/20\n",
      "105/105 [==============================] - 0s 1ms/sample - loss: 1.1409 - acc: 0.7619 - val_loss: 1.8057 - val_acc: 0.2593\n",
      "Epoch 9/20\n",
      "105/105 [==============================] - 0s 2ms/sample - loss: 1.0087 - acc: 0.8286 - val_loss: 1.8182 - val_acc: 0.2222\n",
      "Epoch 10/20\n",
      "105/105 [==============================] - 0s 2ms/sample - loss: 0.9033 - acc: 0.8476 - val_loss: 1.8300 - val_acc: 0.2222\n",
      "Epoch 11/20\n",
      "105/105 [==============================] - 0s 2ms/sample - loss: 0.8322 - acc: 0.8476 - val_loss: 1.8630 - val_acc: 0.2593\n",
      "Epoch 12/20\n",
      "105/105 [==============================] - 0s 2ms/sample - loss: 0.7303 - acc: 0.9048 - val_loss: 1.9097 - val_acc: 0.2963\n",
      "Epoch 13/20\n",
      "105/105 [==============================] - 0s 2ms/sample - loss: 0.6302 - acc: 0.9524 - val_loss: 1.9513 - val_acc: 0.2963\n",
      "Epoch 14/20\n",
      "105/105 [==============================] - 0s 2ms/sample - loss: 0.5612 - acc: 0.9619 - val_loss: 1.9965 - val_acc: 0.2963\n",
      "Epoch 15/20\n",
      "105/105 [==============================] - 0s 2ms/sample - loss: 0.4880 - acc: 0.9714 - val_loss: 1.9813 - val_acc: 0.2593\n",
      "Epoch 16/20\n",
      "105/105 [==============================] - 0s 2ms/sample - loss: 0.4339 - acc: 0.9810 - val_loss: 1.9962 - val_acc: 0.2963\n",
      "Epoch 17/20\n",
      "105/105 [==============================] - 0s 2ms/sample - loss: 0.4102 - acc: 0.9905 - val_loss: 2.0593 - val_acc: 0.2963\n",
      "Epoch 18/20\n",
      "105/105 [==============================] - 0s 2ms/sample - loss: 0.3408 - acc: 0.9810 - val_loss: 2.1403 - val_acc: 0.2963\n",
      "Epoch 19/20\n",
      "105/105 [==============================] - 0s 2ms/sample - loss: 0.3222 - acc: 0.9714 - val_loss: 2.1752 - val_acc: 0.2593\n",
      "Epoch 20/20\n",
      "105/105 [==============================] - 0s 2ms/sample - loss: 0.2544 - acc: 1.0000 - val_loss: 2.1875 - val_acc: 0.3333\n",
      "27/27 [==============================] - 0s 500us/sample - loss: 2.1875 - acc: 0.3333\n",
      "\n",
      "Iteracion: 3\n",
      "Train on 106 samples, validate on 26 samples\n",
      "Epoch 1/20\n",
      "106/106 [==============================] - 3s 31ms/sample - loss: 1.7921 - acc: 0.2170 - val_loss: 1.7540 - val_acc: 0.2308\n",
      "Epoch 2/20\n",
      "106/106 [==============================] - 0s 1ms/sample - loss: 1.7378 - acc: 0.2642 - val_loss: 1.7771 - val_acc: 0.1538\n",
      "Epoch 3/20\n",
      "106/106 [==============================] - 0s 1ms/sample - loss: 1.6354 - acc: 0.3396 - val_loss: 1.7540 - val_acc: 0.2692\n",
      "Epoch 4/20\n",
      "106/106 [==============================] - 0s 1ms/sample - loss: 1.5228 - acc: 0.4623 - val_loss: 1.7581 - val_acc: 0.1923\n",
      "Epoch 5/20\n",
      "106/106 [==============================] - 0s 1ms/sample - loss: 1.4087 - acc: 0.5000 - val_loss: 1.7455 - val_acc: 0.1923\n",
      "Epoch 6/20\n",
      "106/106 [==============================] - 0s 2ms/sample - loss: 1.2522 - acc: 0.6132 - val_loss: 1.7627 - val_acc: 0.1923\n",
      "Epoch 7/20\n",
      "106/106 [==============================] - 0s 2ms/sample - loss: 1.1087 - acc: 0.6604 - val_loss: 1.8032 - val_acc: 0.1923\n",
      "Epoch 8/20\n",
      "106/106 [==============================] - 0s 2ms/sample - loss: 1.0406 - acc: 0.7075 - val_loss: 1.8204 - val_acc: 0.1538\n",
      "Epoch 9/20\n",
      "106/106 [==============================] - 0s 2ms/sample - loss: 0.9241 - acc: 0.8113 - val_loss: 1.8443 - val_acc: 0.2692\n",
      "Epoch 10/20\n",
      "106/106 [==============================] - 0s 2ms/sample - loss: 0.8044 - acc: 0.8491 - val_loss: 1.8710 - val_acc: 0.2308\n",
      "Epoch 11/20\n",
      "106/106 [==============================] - 0s 2ms/sample - loss: 0.7201 - acc: 0.8585 - val_loss: 1.8985 - val_acc: 0.1923\n",
      "Epoch 12/20\n",
      "106/106 [==============================] - 0s 1ms/sample - loss: 0.6437 - acc: 0.8302 - val_loss: 1.9305 - val_acc: 0.2692\n",
      "Epoch 13/20\n",
      "106/106 [==============================] - 0s 2ms/sample - loss: 0.4928 - acc: 0.9340 - val_loss: 1.9521 - val_acc: 0.3077\n",
      "Epoch 14/20\n"
     ]
    },
    {
     "name": "stdout",
     "output_type": "stream",
     "text": [
      "106/106 [==============================] - 0s 2ms/sample - loss: 0.4837 - acc: 0.9528 - val_loss: 2.0094 - val_acc: 0.2692\n",
      "Epoch 15/20\n",
      "106/106 [==============================] - 0s 2ms/sample - loss: 0.3553 - acc: 0.9811 - val_loss: 2.0371 - val_acc: 0.2692\n",
      "Epoch 16/20\n",
      "106/106 [==============================] - 0s 1ms/sample - loss: 0.3248 - acc: 0.9906 - val_loss: 2.0805 - val_acc: 0.3077\n",
      "Epoch 17/20\n",
      "106/106 [==============================] - 0s 1ms/sample - loss: 0.2734 - acc: 0.9906 - val_loss: 2.1328 - val_acc: 0.3077\n",
      "Epoch 18/20\n",
      "106/106 [==============================] - 0s 2ms/sample - loss: 0.2426 - acc: 1.0000 - val_loss: 2.1967 - val_acc: 0.2692\n",
      "Epoch 19/20\n",
      "106/106 [==============================] - 0s 1ms/sample - loss: 0.2518 - acc: 0.9717 - val_loss: 2.3133 - val_acc: 0.1923\n",
      "Epoch 20/20\n",
      "106/106 [==============================] - 0s 2ms/sample - loss: 0.1914 - acc: 1.0000 - val_loss: 2.3871 - val_acc: 0.1923\n",
      "26/26 [==============================] - 0s 456us/sample - loss: 2.3871 - acc: 0.1923\n",
      "\n",
      "Iteracion: 4\n",
      "Train on 107 samples, validate on 25 samples\n",
      "Epoch 1/20\n",
      "107/107 [==============================] - 3s 32ms/sample - loss: 1.8399 - acc: 0.1589 - val_loss: 1.8072 - val_acc: 0.2000\n",
      "Epoch 2/20\n",
      "107/107 [==============================] - 0s 1ms/sample - loss: 1.7553 - acc: 0.2523 - val_loss: 1.7920 - val_acc: 0.2000\n",
      "Epoch 3/20\n",
      "107/107 [==============================] - 0s 1ms/sample - loss: 1.6414 - acc: 0.4019 - val_loss: 1.7991 - val_acc: 0.3200\n",
      "Epoch 4/20\n",
      "107/107 [==============================] - 0s 1ms/sample - loss: 1.4410 - acc: 0.6168 - val_loss: 1.8108 - val_acc: 0.2400\n",
      "Epoch 5/20\n",
      "107/107 [==============================] - 0s 1ms/sample - loss: 1.2500 - acc: 0.6449 - val_loss: 1.8773 - val_acc: 0.2000\n",
      "Epoch 6/20\n",
      "107/107 [==============================] - 0s 2ms/sample - loss: 1.1280 - acc: 0.6636 - val_loss: 1.9485 - val_acc: 0.2400\n",
      "Epoch 7/20\n",
      "107/107 [==============================] - 0s 1ms/sample - loss: 0.9154 - acc: 0.8411 - val_loss: 1.9420 - val_acc: 0.2800\n",
      "Epoch 8/20\n",
      "107/107 [==============================] - 0s 2ms/sample - loss: 0.8100 - acc: 0.8692 - val_loss: 1.9943 - val_acc: 0.2000\n",
      "Epoch 9/20\n",
      "107/107 [==============================] - 0s 1ms/sample - loss: 0.6951 - acc: 0.9065 - val_loss: 2.1138 - val_acc: 0.2400\n",
      "Epoch 10/20\n",
      "107/107 [==============================] - 0s 2ms/sample - loss: 0.5980 - acc: 0.9065 - val_loss: 2.0594 - val_acc: 0.1600\n",
      "Epoch 11/20\n",
      "107/107 [==============================] - 0s 1ms/sample - loss: 0.5054 - acc: 0.9533 - val_loss: 2.0460 - val_acc: 0.2400\n",
      "Epoch 12/20\n",
      "107/107 [==============================] - 0s 1ms/sample - loss: 0.4163 - acc: 0.9907 - val_loss: 2.1219 - val_acc: 0.2400\n",
      "Epoch 13/20\n",
      "107/107 [==============================] - 0s 1ms/sample - loss: 0.3235 - acc: 0.9907 - val_loss: 2.2342 - val_acc: 0.1200\n",
      "Epoch 14/20\n",
      "107/107 [==============================] - 0s 1ms/sample - loss: 0.3059 - acc: 0.9720 - val_loss: 2.4179 - val_acc: 0.1600\n",
      "Epoch 15/20\n",
      "107/107 [==============================] - 0s 1ms/sample - loss: 0.2653 - acc: 0.9720 - val_loss: 2.4963 - val_acc: 0.2000\n",
      "Epoch 16/20\n",
      "107/107 [==============================] - 0s 1ms/sample - loss: 0.1956 - acc: 1.0000 - val_loss: 2.5018 - val_acc: 0.1600\n",
      "Epoch 17/20\n",
      "107/107 [==============================] - 0s 2ms/sample - loss: 0.1781 - acc: 1.0000 - val_loss: 2.5017 - val_acc: 0.1600\n",
      "Epoch 18/20\n",
      "107/107 [==============================] - 0s 1ms/sample - loss: 0.1433 - acc: 1.0000 - val_loss: 2.5282 - val_acc: 0.1600\n",
      "Epoch 19/20\n",
      "107/107 [==============================] - 0s 1ms/sample - loss: 0.1093 - acc: 1.0000 - val_loss: 2.5716 - val_acc: 0.1600\n",
      "Epoch 20/20\n",
      "107/107 [==============================] - 0s 1ms/sample - loss: 0.1158 - acc: 1.0000 - val_loss: 2.6215 - val_acc: 0.1600\n",
      "25/25 [==============================] - 0s 611us/sample - loss: 2.6215 - acc: 0.1600\n",
      "\n",
      "Iteracion: 5\n",
      "Train on 107 samples, validate on 25 samples\n",
      "Epoch 1/20\n",
      "107/107 [==============================] - 3s 33ms/sample - loss: 1.8412 - acc: 0.1028 - val_loss: 1.7913 - val_acc: 0.1600\n",
      "Epoch 2/20\n",
      "107/107 [==============================] - 0s 1ms/sample - loss: 1.7681 - acc: 0.1869 - val_loss: 1.7809 - val_acc: 0.2400\n",
      "Epoch 3/20\n",
      "107/107 [==============================] - 0s 1ms/sample - loss: 1.7073 - acc: 0.2523 - val_loss: 1.7868 - val_acc: 0.1600\n",
      "Epoch 4/20\n",
      "107/107 [==============================] - 0s 1ms/sample - loss: 1.6401 - acc: 0.3551 - val_loss: 1.7978 - val_acc: 0.1200\n",
      "Epoch 5/20\n",
      "107/107 [==============================] - 0s 2ms/sample - loss: 1.5693 - acc: 0.5421 - val_loss: 1.7811 - val_acc: 0.3200\n",
      "Epoch 6/20\n",
      "107/107 [==============================] - 0s 1ms/sample - loss: 1.4709 - acc: 0.5140 - val_loss: 1.7827 - val_acc: 0.3200\n",
      "Epoch 7/20\n",
      "107/107 [==============================] - 0s 1ms/sample - loss: 1.3399 - acc: 0.6168 - val_loss: 1.7708 - val_acc: 0.2800\n",
      "Epoch 8/20\n",
      "107/107 [==============================] - 0s 1ms/sample - loss: 1.1987 - acc: 0.6729 - val_loss: 1.7892 - val_acc: 0.3600\n",
      "Epoch 9/20\n",
      "107/107 [==============================] - 0s 2ms/sample - loss: 1.0771 - acc: 0.7570 - val_loss: 1.8089 - val_acc: 0.2000\n",
      "Epoch 10/20\n",
      "107/107 [==============================] - 0s 1ms/sample - loss: 0.9885 - acc: 0.8037 - val_loss: 1.8055 - val_acc: 0.2800\n",
      "Epoch 11/20\n",
      "107/107 [==============================] - 0s 1ms/sample - loss: 0.8654 - acc: 0.8505 - val_loss: 1.8405 - val_acc: 0.2800\n",
      "Epoch 12/20\n",
      "107/107 [==============================] - 0s 2ms/sample - loss: 0.7452 - acc: 0.9065 - val_loss: 1.8197 - val_acc: 0.4400\n",
      "Epoch 13/20\n",
      "107/107 [==============================] - 0s 2ms/sample - loss: 0.7043 - acc: 0.8879 - val_loss: 1.8443 - val_acc: 0.4400\n",
      "Epoch 14/20\n",
      "107/107 [==============================] - 0s 1ms/sample - loss: 0.6205 - acc: 0.8785 - val_loss: 1.8720 - val_acc: 0.2800\n",
      "Epoch 15/20\n",
      "107/107 [==============================] - 0s 1ms/sample - loss: 0.4930 - acc: 0.9533 - val_loss: 1.9409 - val_acc: 0.2400\n",
      "Epoch 16/20\n",
      "107/107 [==============================] - 0s 1ms/sample - loss: 0.4665 - acc: 0.9720 - val_loss: 2.0002 - val_acc: 0.2400\n",
      "Epoch 17/20\n",
      "107/107 [==============================] - 0s 1ms/sample - loss: 0.3680 - acc: 0.9813 - val_loss: 2.0420 - val_acc: 0.2400\n",
      "Epoch 18/20\n",
      "107/107 [==============================] - 0s 1ms/sample - loss: 0.3191 - acc: 1.0000 - val_loss: 2.0541 - val_acc: 0.2000\n",
      "Epoch 19/20\n",
      "107/107 [==============================] - 0s 2ms/sample - loss: 0.2836 - acc: 0.9813 - val_loss: 2.0555 - val_acc: 0.2800\n",
      "Epoch 20/20\n",
      "107/107 [==============================] - 0s 2ms/sample - loss: 0.2483 - acc: 0.9907 - val_loss: 2.1079 - val_acc: 0.3200\n",
      "25/25 [==============================] - 0s 464us/sample - loss: 2.1079 - acc: 0.3200\n"
     ]
    }
   ],
   "source": [
    "resultados = np.zeros((2, 5)) #accuracy y loss en cada validacion cruzada\n",
    "i = 0\n",
    "for iTrain, jTest in skf.split(x, y):\n",
    "    print(\"\\nIteracion:\", i + 1)\n",
    "    x_train, x_test = x[iTrain], x[jTest]\n",
    "    y_train, y_test = y[iTrain], y[jTest]\n",
    "    \n",
    "    model = Sequential()\n",
    "    model.add(TimeDistributed(Conv1D(64, 3, activation='relu'), input_shape=(None,512,6)))\n",
    "    model.add(TimeDistributed(Conv1D(64, 3, activation='relu')))\n",
    "    model.add(TimeDistributed(Dropout(0.5)))\n",
    "    model.add(TimeDistributed(MaxPool1D(2)))\n",
    "    model.add(TimeDistributed(Flatten()))\n",
    "    model.add(LSTM(100))\n",
    "    model.add(Dropout(0.5))\n",
    "    model.add(Dense(100, activation='relu'))\n",
    "    model.add(Dense(n_classes, activation='softmax'))\n",
    "    \n",
    "    model.compile(optimizer='adam', loss='sparse_categorical_crossentropy', metrics=['accuracy'])\n",
    "    \n",
    "    model.fit(x_train, y_train, epochs = 20, batch_size = 64, validation_data=(x_test, y_test))\n",
    "    \n",
    "    resultados[0, i], resultados[1, i] = model.evaluate(x_test, y_test)\n",
    "    i += 1"
   ]
  },
  {
   "cell_type": "code",
   "execution_count": 12,
   "metadata": {},
   "outputs": [
    {
     "name": "stdout",
     "output_type": "stream",
     "text": [
      "loss: [2.80984139 2.18751121 2.38714576 2.62151194 2.10788703]\n",
      "accuracy: [0.1724138  0.33333334 0.1923077  0.16       0.31999999]\n",
      "mean accuracy: 0.23561096489429473\n"
     ]
    }
   ],
   "source": [
    "print(\"loss:\", resultados[0])\n",
    "print(\"accuracy:\", resultados[1])\n",
    "print(\"mean accuracy:\", resultados[1].mean())"
   ]
  },
  {
   "cell_type": "code",
   "execution_count": 13,
   "metadata": {},
   "outputs": [
    {
     "name": "stdout",
     "output_type": "stream",
     "text": [
      "_________________________________________________________________\n",
      "Layer (type)                 Output Shape              Param #   \n",
      "=================================================================\n",
      "time_distributed_20 (TimeDis (None, None, 510, 64)     1216      \n",
      "_________________________________________________________________\n",
      "time_distributed_21 (TimeDis (None, None, 508, 64)     12352     \n",
      "_________________________________________________________________\n",
      "time_distributed_22 (TimeDis (None, None, 508, 64)     0         \n",
      "_________________________________________________________________\n",
      "time_distributed_23 (TimeDis (None, None, 254, 64)     0         \n",
      "_________________________________________________________________\n",
      "time_distributed_24 (TimeDis (None, None, 16256)       0         \n",
      "_________________________________________________________________\n",
      "lstm_4 (LSTM)                (None, 100)               6542800   \n",
      "_________________________________________________________________\n",
      "dropout_9 (Dropout)          (None, 100)               0         \n",
      "_________________________________________________________________\n",
      "dense_8 (Dense)              (None, 100)               10100     \n",
      "_________________________________________________________________\n",
      "dense_9 (Dense)              (None, 6)                 606       \n",
      "=================================================================\n",
      "Total params: 6,567,074\n",
      "Trainable params: 6,567,074\n",
      "Non-trainable params: 0\n",
      "_________________________________________________________________\n"
     ]
    }
   ],
   "source": [
    "model.summary()"
   ]
  }
 ],
 "metadata": {
  "kernelspec": {
   "display_name": "Python 3",
   "language": "python",
   "name": "python3"
  },
  "language_info": {
   "codemirror_mode": {
    "name": "ipython",
    "version": 3
   },
   "file_extension": ".py",
   "mimetype": "text/x-python",
   "name": "python",
   "nbconvert_exporter": "python",
   "pygments_lexer": "ipython3",
   "version": "3.7.3"
  }
 },
 "nbformat": 4,
 "nbformat_minor": 2
}
