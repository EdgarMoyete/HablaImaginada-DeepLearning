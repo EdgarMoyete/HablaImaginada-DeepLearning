{
 "cells": [
  {
   "cell_type": "code",
   "execution_count": 1,
   "metadata": {},
   "outputs": [],
   "source": [
    "#Edgar Moises Hernandez-Gonzalez\n",
    "#07/07/19-04/11/19\n",
    "#CNN para EEG de Habla Imaginada con 2 capas\n",
    "#32@3x7 y 64@3x7"
   ]
  },
  {
   "cell_type": "code",
   "execution_count": 2,
   "metadata": {},
   "outputs": [],
   "source": [
    "import pandas as pd\n",
    "from sklearn.model_selection import train_test_split\n",
    "from sklearn.preprocessing import StandardScaler\n",
    "import tensorflow as tf\n",
    "from tensorflow.keras import layers, models\n",
    "import matplotlib.pyplot as plt"
   ]
  },
  {
   "cell_type": "code",
   "execution_count": 3,
   "metadata": {},
   "outputs": [
    {
     "name": "stdout",
     "output_type": "stream",
     "text": [
      "(225, 3072)\n",
      "(225,)\n",
      "225\n"
     ]
    }
   ],
   "source": [
    "datos = pd.read_csv(\"Submuestreo02.csv\", header=None)\n",
    "x = datos.iloc[:, 0:3072].values\n",
    "y = datos.iloc[:, 3072].values\n",
    "\n",
    "num_classes = 6\n",
    "n_samples = len(y)\n",
    "print(x.shape)\n",
    "print(y.shape)\n",
    "print(n_samples)"
   ]
  },
  {
   "cell_type": "code",
   "execution_count": 4,
   "metadata": {},
   "outputs": [],
   "source": [
    "#escalar los datos para que tengan media = 0 y desviacion estandar = 1\n",
    "scaler = StandardScaler().fit(x)\n",
    "x = scaler.transform(x)"
   ]
  },
  {
   "cell_type": "code",
   "execution_count": 5,
   "metadata": {},
   "outputs": [
    {
     "name": "stdout",
     "output_type": "stream",
     "text": [
      "(225, 12, 256, 1)\n"
     ]
    }
   ],
   "source": [
    "#convertir de 2D a 4D\n",
    "x = x.reshape((n_samples, 12, 256, 1))\n",
    "print(x.shape)"
   ]
  },
  {
   "cell_type": "code",
   "execution_count": 6,
   "metadata": {},
   "outputs": [],
   "source": [
    "#dividir en train y test\n",
    "x_train, x_test, y_train, y_test = train_test_split(x, y)"
   ]
  },
  {
   "cell_type": "code",
   "execution_count": 7,
   "metadata": {},
   "outputs": [
    {
     "name": "stdout",
     "output_type": "stream",
     "text": [
      "WARNING:tensorflow:From C:\\Users\\EdgarMoises\\Anaconda3\\lib\\site-packages\\tensorflow\\python\\ops\\resource_variable_ops.py:435: colocate_with (from tensorflow.python.framework.ops) is deprecated and will be removed in a future version.\n",
      "Instructions for updating:\n",
      "Colocations handled automatically by placer.\n",
      "WARNING:tensorflow:From C:\\Users\\EdgarMoises\\Anaconda3\\lib\\site-packages\\tensorflow\\python\\keras\\layers\\core.py:143: calling dropout (from tensorflow.python.ops.nn_ops) with keep_prob is deprecated and will be removed in a future version.\n",
      "Instructions for updating:\n",
      "Please use `rate` instead of `keep_prob`. Rate should be set to `rate = 1 - keep_prob`.\n"
     ]
    }
   ],
   "source": [
    "model = models.Sequential()\n",
    "model.add(layers.Conv2D(32, (3, 7), activation='relu', input_shape=(12, 256, 1)))\n",
    "model.add(layers.MaxPool2D((2, 2)))\n",
    "model.add(layers.Conv2D(64, (3, 7), activation='relu'))\n",
    "model.add(layers.MaxPool2D((2, 2)))\n",
    "model.add(layers.Flatten())\n",
    "model.add(layers.Dense(64, activation='relu'))\n",
    "model.add(layers.Dropout(0.2))\n",
    "model.add(layers.Dense(num_classes, activation='softmax'))"
   ]
  },
  {
   "cell_type": "code",
   "execution_count": 8,
   "metadata": {},
   "outputs": [
    {
     "name": "stdout",
     "output_type": "stream",
     "text": [
      "_________________________________________________________________\n",
      "Layer (type)                 Output Shape              Param #   \n",
      "=================================================================\n",
      "conv2d (Conv2D)              (None, 10, 250, 32)       704       \n",
      "_________________________________________________________________\n",
      "max_pooling2d (MaxPooling2D) (None, 5, 125, 32)        0         \n",
      "_________________________________________________________________\n",
      "conv2d_1 (Conv2D)            (None, 3, 119, 64)        43072     \n",
      "_________________________________________________________________\n",
      "max_pooling2d_1 (MaxPooling2 (None, 1, 59, 64)         0         \n",
      "_________________________________________________________________\n",
      "flatten (Flatten)            (None, 3776)              0         \n",
      "_________________________________________________________________\n",
      "dense (Dense)                (None, 64)                241728    \n",
      "_________________________________________________________________\n",
      "dropout (Dropout)            (None, 64)                0         \n",
      "_________________________________________________________________\n",
      "dense_1 (Dense)              (None, 6)                 390       \n",
      "=================================================================\n",
      "Total params: 285,894\n",
      "Trainable params: 285,894\n",
      "Non-trainable params: 0\n",
      "_________________________________________________________________\n"
     ]
    }
   ],
   "source": [
    "model.summary()"
   ]
  },
  {
   "cell_type": "code",
   "execution_count": 9,
   "metadata": {},
   "outputs": [],
   "source": [
    "model.compile(optimizer='adam', loss='sparse_categorical_crossentropy', metrics=['accuracy'])"
   ]
  },
  {
   "cell_type": "code",
   "execution_count": 10,
   "metadata": {},
   "outputs": [
    {
     "name": "stdout",
     "output_type": "stream",
     "text": [
      "Train on 168 samples, validate on 57 samples\n",
      "Epoch 1/20\n",
      "168/168 [==============================] - 5s 27ms/sample - loss: 1.9915 - acc: 0.1071 - val_loss: 1.8082 - val_acc: 0.0702\n",
      "Epoch 2/20\n",
      "168/168 [==============================] - 0s 629us/sample - loss: 1.7714 - acc: 0.2560 - val_loss: 1.8258 - val_acc: 0.1579\n",
      "Epoch 3/20\n",
      "168/168 [==============================] - 0s 699us/sample - loss: 1.7656 - acc: 0.2024 - val_loss: 1.8072 - val_acc: 0.1228\n",
      "Epoch 4/20\n",
      "168/168 [==============================] - 0s 622us/sample - loss: 1.7271 - acc: 0.2619 - val_loss: 1.8142 - val_acc: 0.1404\n",
      "Epoch 5/20\n",
      "168/168 [==============================] - 0s 668us/sample - loss: 1.6920 - acc: 0.3155 - val_loss: 1.8259 - val_acc: 0.1754\n",
      "Epoch 6/20\n",
      "168/168 [==============================] - 0s 685us/sample - loss: 1.6520 - acc: 0.3512 - val_loss: 1.8090 - val_acc: 0.1930\n",
      "Epoch 7/20\n",
      "168/168 [==============================] - 0s 724us/sample - loss: 1.5902 - acc: 0.3810 - val_loss: 1.8310 - val_acc: 0.1754\n",
      "Epoch 8/20\n",
      "168/168 [==============================] - 0s 740us/sample - loss: 1.5524 - acc: 0.4167 - val_loss: 1.8596 - val_acc: 0.1754\n",
      "Epoch 9/20\n",
      "168/168 [==============================] - 0s 738us/sample - loss: 1.4217 - acc: 0.4762 - val_loss: 1.8543 - val_acc: 0.1930\n",
      "Epoch 10/20\n",
      "168/168 [==============================] - 0s 715us/sample - loss: 1.3740 - acc: 0.5238 - val_loss: 1.8905 - val_acc: 0.2105\n",
      "Epoch 11/20\n",
      "168/168 [==============================] - 0s 719us/sample - loss: 1.2697 - acc: 0.5357 - val_loss: 1.9797 - val_acc: 0.1930\n",
      "Epoch 12/20\n",
      "168/168 [==============================] - 0s 706us/sample - loss: 1.2196 - acc: 0.4940 - val_loss: 1.9823 - val_acc: 0.1754\n",
      "Epoch 13/20\n",
      "168/168 [==============================] - 0s 699us/sample - loss: 1.1377 - acc: 0.6071 - val_loss: 2.1181 - val_acc: 0.1754\n",
      "Epoch 14/20\n",
      "168/168 [==============================] - 0s 720us/sample - loss: 1.0447 - acc: 0.6071 - val_loss: 2.1516 - val_acc: 0.2281\n",
      "Epoch 15/20\n",
      "168/168 [==============================] - 0s 745us/sample - loss: 0.9859 - acc: 0.6667 - val_loss: 2.2635 - val_acc: 0.1754\n",
      "Epoch 16/20\n",
      "168/168 [==============================] - 0s 734us/sample - loss: 0.8238 - acc: 0.6845 - val_loss: 2.3823 - val_acc: 0.1930\n",
      "Epoch 17/20\n",
      "168/168 [==============================] - 0s 678us/sample - loss: 0.7645 - acc: 0.7560 - val_loss: 2.5146 - val_acc: 0.1754\n",
      "Epoch 18/20\n",
      "168/168 [==============================] - 0s 752us/sample - loss: 0.7086 - acc: 0.7560 - val_loss: 2.5777 - val_acc: 0.1579\n",
      "Epoch 19/20\n",
      "168/168 [==============================] - 0s 756us/sample - loss: 0.6701 - acc: 0.7857 - val_loss: 2.6402 - val_acc: 0.1930\n",
      "Epoch 20/20\n",
      "168/168 [==============================] - 0s 729us/sample - loss: 0.5544 - acc: 0.8452 - val_loss: 2.7652 - val_acc: 0.1930\n"
     ]
    }
   ],
   "source": [
    "history = model.fit(x_train, y_train, epochs = 20, batch_size = 64, validation_data=(x_test, y_test))"
   ]
  },
  {
   "cell_type": "code",
   "execution_count": 11,
   "metadata": {},
   "outputs": [
    {
     "name": "stdout",
     "output_type": "stream",
     "text": [
      "57/57 [==============================] - 0s 5ms/sample - loss: 2.7652 - acc: 0.1930\n",
      "Test loss: 2.7651728789011636\n",
      "Test accuracy: 0.19298245\n"
     ]
    }
   ],
   "source": [
    "score = model.evaluate(x_test, y_test)\n",
    "print('Test loss:', score[0])\n",
    "print('Test accuracy:', score[1])"
   ]
  },
  {
   "cell_type": "code",
   "execution_count": 12,
   "metadata": {},
   "outputs": [
    {
     "data": {
      "image/png": "[encoded data removed]",
      "text/plain": [
       "<Figure size 432x288 with 1 Axes>"
      ]
     },
     "metadata": {
      "needs_background": "light"
     },
     "output_type": "display_data"
    }
   ],
   "source": [
    "plt.plot(history.history['acc'])\n",
    "plt.plot(history.history['val_acc'])\n",
    "plt.grid()\n",
    "plt.xlabel('Epocas')\n",
    "plt.ylabel('Accuracy')\n",
    "plt.legend(['train', 'test'])\n",
    "plt.show()"
   ]
  },
  {
   "cell_type": "code",
   "execution_count": 13,
   "metadata": {},
   "outputs": [
    {
     "data": {
      "image/png": "[encoded data removed]",
      "text/plain": [
       "<Figure size 432x288 with 1 Axes>"
      ]
     },
     "metadata": {
      "needs_background": "light"
     },
     "output_type": "display_data"
    }
   ],
   "source": [
    "plt.plot(history.history['loss'])\n",
    "plt.plot(history.history['val_loss'])\n",
    "plt.grid()\n",
    "plt.xlabel('Epocas')\n",
    "plt.ylabel('Entropia Cruzada')\n",
    "plt.legend(['train', 'test'])\n",
    "plt.show()"
   ]
  }
 ],
 "metadata": {
  "kernelspec": {
   "display_name": "Python 3",
   "language": "python",
   "name": "python3"
  },
  "language_info": {
   "codemirror_mode": {
    "name": "ipython",
    "version": 3
   },
   "file_extension": ".py",
   "mimetype": "text/x-python",
   "name": "python",
   "nbconvert_exporter": "python",
   "pygments_lexer": "ipython3",
   "version": "3.7.3"
  }
 },
 "nbformat": 4,
 "nbformat_minor": 2
}
