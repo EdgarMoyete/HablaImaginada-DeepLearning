{
 "cells": [
  {
   "cell_type": "code",
   "execution_count": 1,
   "metadata": {},
   "outputs": [],
   "source": [
    "#Edgar Moises Hernandez-Gonzalez\n",
    "#07/07/19-16/12/19\n",
    "#Clasificar habla imaginada en EGG con CNN de 2 capas"
   ]
  },
  {
   "cell_type": "code",
   "execution_count": 6,
   "metadata": {},
   "outputs": [],
   "source": [
    "import numpy as np\n",
    "import pandas as pd\n",
    "import matplotlib.pyplot as plt\n",
    "from sklearn.model_selection import train_test_split\n",
    "from sklearn.preprocessing import StandardScaler\n",
    "from tensorflow.keras.models import Sequential\n",
    "from tensorflow.keras.layers import Conv2D, MaxPool2D, Flatten, Dense, Dropout"
   ]
  },
  {
   "cell_type": "code",
   "execution_count": 2,
   "metadata": {},
   "outputs": [],
   "source": [
    "datos = pd.read_csv(\"Submuestreo01.csv\", header=None)\n",
    "x = datos.iloc[:, 0:3072]\n",
    "y = datos.iloc[:, 3072]"
   ]
  },
  {
   "cell_type": "code",
   "execution_count": 3,
   "metadata": {},
   "outputs": [
    {
     "name": "stdout",
     "output_type": "stream",
     "text": [
      "(132, 3072)\n",
      "(132,)\n"
     ]
    }
   ],
   "source": [
    "print(x.shape)\n",
    "print(y.shape)"
   ]
  },
  {
   "cell_type": "code",
   "execution_count": 4,
   "metadata": {},
   "outputs": [
    {
     "name": "stdout",
     "output_type": "stream",
     "text": [
      "n_samples: 132\n"
     ]
    }
   ],
   "source": [
    "n_samples = len(y)\n",
    "print(\"n_samples:\", n_samples)"
   ]
  },
  {
   "cell_type": "code",
   "execution_count": 7,
   "metadata": {},
   "outputs": [
    {
     "name": "stdout",
     "output_type": "stream",
     "text": [
      "n_classes: 6\n"
     ]
    }
   ],
   "source": [
    "n_classes = len(np.unique(y))\n",
    "print(\"n_classes:\", n_classes)"
   ]
  },
  {
   "cell_type": "code",
   "execution_count": 8,
   "metadata": {},
   "outputs": [],
   "source": [
    "#escalar los datos para que tengan media = 0 y desviacion estandar = 1\n",
    "x = StandardScaler().fit_transform(x)"
   ]
  },
  {
   "cell_type": "code",
   "execution_count": 9,
   "metadata": {},
   "outputs": [
    {
     "name": "stdout",
     "output_type": "stream",
     "text": [
      "(132, 6, 512, 1)\n"
     ]
    }
   ],
   "source": [
    "#convertir de 2D a 4D\n",
    "x = x.reshape((n_samples, 6, 512, 1))\n",
    "print(x.shape)"
   ]
  },
  {
   "cell_type": "code",
   "execution_count": 10,
   "metadata": {},
   "outputs": [],
   "source": [
    "#dividir en train y test\n",
    "x_train, x_test, y_train, y_test = train_test_split(x, y)"
   ]
  },
  {
   "cell_type": "code",
   "execution_count": 35,
   "metadata": {},
   "outputs": [],
   "source": [
    "model = Sequential()\n",
    "model.add(Conv2D(32, (1, 7), activation='relu', input_shape=(6, 512, 1)))\n",
    "model.add(MaxPool2D((2, 2)))\n",
    "model.add(Conv2D(64, (1, 7), activation='relu'))\n",
    "model.add(MaxPool2D((2, 2)))\n",
    "model.add(Flatten())\n",
    "model.add(Dense(32, activation='relu'))\n",
    "model.add(Dropout(0.2))\n",
    "model.add(Dense(n_classes, activation='softmax'))"
   ]
  },
  {
   "cell_type": "code",
   "execution_count": 36,
   "metadata": {},
   "outputs": [],
   "source": [
    "model.compile(optimizer='adam', loss='sparse_categorical_crossentropy', metrics=['accuracy'])"
   ]
  },
  {
   "cell_type": "code",
   "execution_count": 37,
   "metadata": {},
   "outputs": [
    {
     "name": "stdout",
     "output_type": "stream",
     "text": [
      "_________________________________________________________________\n",
      "Layer (type)                 Output Shape              Param #   \n",
      "=================================================================\n",
      "conv2d_14 (Conv2D)           (None, 6, 506, 32)        256       \n",
      "_________________________________________________________________\n",
      "max_pooling2d_12 (MaxPooling (None, 3, 253, 32)        0         \n",
      "_________________________________________________________________\n",
      "conv2d_15 (Conv2D)           (None, 3, 247, 64)        14400     \n",
      "_________________________________________________________________\n",
      "max_pooling2d_13 (MaxPooling (None, 1, 123, 64)        0         \n",
      "_________________________________________________________________\n",
      "flatten_4 (Flatten)          (None, 7872)              0         \n",
      "_________________________________________________________________\n",
      "dense_7 (Dense)              (None, 32)                251936    \n",
      "_________________________________________________________________\n",
      "dropout_4 (Dropout)          (None, 32)                0         \n",
      "_________________________________________________________________\n",
      "dense_8 (Dense)              (None, 6)                 198       \n",
      "=================================================================\n",
      "Total params: 266,790\n",
      "Trainable params: 266,790\n",
      "Non-trainable params: 0\n",
      "_________________________________________________________________\n"
     ]
    }
   ],
   "source": [
    "model.summary()"
   ]
  },
  {
   "cell_type": "code",
   "execution_count": 38,
   "metadata": {},
   "outputs": [
    {
     "name": "stdout",
     "output_type": "stream",
     "text": [
      "Train on 99 samples, validate on 33 samples\n",
      "Epoch 1/20\n",
      "99/99 [==============================] - 0s 3ms/sample - loss: 1.8967 - acc: 0.1616 - val_loss: 1.8022 - val_acc: 0.1212\n",
      "Epoch 2/20\n",
      "99/99 [==============================] - 0s 555us/sample - loss: 1.6958 - acc: 0.2828 - val_loss: 1.8050 - val_acc: 0.1818\n",
      "Epoch 3/20\n",
      "99/99 [==============================] - 0s 547us/sample - loss: 1.7016 - acc: 0.2626 - val_loss: 1.7946 - val_acc: 0.2727\n",
      "Epoch 4/20\n",
      "99/99 [==============================] - 0s 564us/sample - loss: 1.5445 - acc: 0.4343 - val_loss: 1.8204 - val_acc: 0.1515\n",
      "Epoch 5/20\n",
      "99/99 [==============================] - 0s 542us/sample - loss: 1.4543 - acc: 0.5354 - val_loss: 1.8459 - val_acc: 0.1515\n",
      "Epoch 6/20\n",
      "99/99 [==============================] - 0s 536us/sample - loss: 1.3423 - acc: 0.5758 - val_loss: 1.8602 - val_acc: 0.2121\n",
      "Epoch 7/20\n",
      "99/99 [==============================] - 0s 523us/sample - loss: 1.2209 - acc: 0.6364 - val_loss: 1.8939 - val_acc: 0.2424\n",
      "Epoch 8/20\n",
      "99/99 [==============================] - 0s 544us/sample - loss: 1.0866 - acc: 0.6667 - val_loss: 1.9781 - val_acc: 0.2424\n",
      "Epoch 9/20\n",
      "99/99 [==============================] - 0s 549us/sample - loss: 1.0356 - acc: 0.6869 - val_loss: 2.0162 - val_acc: 0.1818\n",
      "Epoch 10/20\n",
      "99/99 [==============================] - 0s 539us/sample - loss: 0.8941 - acc: 0.7576 - val_loss: 2.0467 - val_acc: 0.2424\n",
      "Epoch 11/20\n",
      "99/99 [==============================] - 0s 559us/sample - loss: 0.7400 - acc: 0.8081 - val_loss: 2.2346 - val_acc: 0.3030\n",
      "Epoch 12/20\n",
      "99/99 [==============================] - 0s 520us/sample - loss: 0.6873 - acc: 0.8283 - val_loss: 2.3334 - val_acc: 0.2727\n",
      "Epoch 13/20\n",
      "99/99 [==============================] - 0s 554us/sample - loss: 0.5407 - acc: 0.8788 - val_loss: 2.4133 - val_acc: 0.2727\n",
      "Epoch 14/20\n",
      "99/99 [==============================] - 0s 544us/sample - loss: 0.4870 - acc: 0.8788 - val_loss: 2.5743 - val_acc: 0.2727\n",
      "Epoch 15/20\n",
      "99/99 [==============================] - 0s 534us/sample - loss: 0.4069 - acc: 0.9091 - val_loss: 2.9417 - val_acc: 0.2424\n",
      "Epoch 16/20\n",
      "99/99 [==============================] - 0s 549us/sample - loss: 0.3425 - acc: 0.9192 - val_loss: 2.8926 - val_acc: 0.2727\n",
      "Epoch 17/20\n",
      "99/99 [==============================] - 0s 530us/sample - loss: 0.3317 - acc: 0.9192 - val_loss: 2.8713 - val_acc: 0.3030\n",
      "Epoch 18/20\n",
      "99/99 [==============================] - 0s 580us/sample - loss: 0.2072 - acc: 0.9596 - val_loss: 3.1586 - val_acc: 0.1818\n",
      "Epoch 19/20\n",
      "99/99 [==============================] - 0s 534us/sample - loss: 0.3135 - acc: 0.9192 - val_loss: 3.1715 - val_acc: 0.2727\n",
      "Epoch 20/20\n",
      "99/99 [==============================] - 0s 544us/sample - loss: 0.2879 - acc: 0.9394 - val_loss: 3.3508 - val_acc: 0.2424\n"
     ]
    }
   ],
   "source": [
    "history = model.fit(x_train, y_train, epochs = 20, batch_size = 64, validation_data=(x_test, y_test))"
   ]
  },
  {
   "cell_type": "code",
   "execution_count": 39,
   "metadata": {},
   "outputs": [
    {
     "name": "stdout",
     "output_type": "stream",
     "text": [
      "33/33 [==============================] - 0s 303us/sample - loss: 3.3508 - acc: 0.2424\n",
      "Test loss: 3.3508453170458474\n",
      "Test accuracy: 0.24242425\n"
     ]
    }
   ],
   "source": [
    "score = model.evaluate(x_test, y_test)\n",
    "print('Test loss:', score[0])\n",
    "print('Test accuracy:', score[1])"
   ]
  },
  {
   "cell_type": "code",
   "execution_count": 40,
   "metadata": {},
   "outputs": [
    {
     "data": {
      "image/png": "[encoded data removed]",
      "text/plain": [
       "<Figure size 432x288 with 1 Axes>"
      ]
     },
     "metadata": {
      "needs_background": "light"
     },
     "output_type": "display_data"
    }
   ],
   "source": [
    "plt.plot(history.history['acc'])\n",
    "plt.plot(history.history['val_acc'])\n",
    "plt.grid()\n",
    "plt.xlabel('Epocas')\n",
    "plt.ylabel('Accuracy')\n",
    "plt.legend(['train', 'test'])\n",
    "plt.show()"
   ]
  },
  {
   "cell_type": "code",
   "execution_count": 41,
   "metadata": {},
   "outputs": [
    {
     "data": {
      "image/png": "[encoded data removed]",
      "text/plain": [
       "<Figure size 432x288 with 1 Axes>"
      ]
     },
     "metadata": {
      "needs_background": "light"
     },
     "output_type": "display_data"
    }
   ],
   "source": [
    "plt.plot(history.history['loss'])\n",
    "plt.plot(history.history['val_loss'])\n",
    "plt.grid()\n",
    "plt.xlabel('Epocas')\n",
    "plt.ylabel('Entropia Cruzada')\n",
    "plt.legend(['train', 'test'])\n",
    "plt.show()"
   ]
  }
 ],
 "metadata": {
  "kernelspec": {
   "display_name": "Python 3",
   "language": "python",
   "name": "python3"
  },
  "language_info": {
   "codemirror_mode": {
    "name": "ipython",
    "version": 3
   },
   "file_extension": ".py",
   "mimetype": "text/x-python",
   "name": "python",
   "nbconvert_exporter": "python",
   "pygments_lexer": "ipython3",
   "version": "3.7.3"
  }
 },
 "nbformat": 4,
 "nbformat_minor": 2
}
