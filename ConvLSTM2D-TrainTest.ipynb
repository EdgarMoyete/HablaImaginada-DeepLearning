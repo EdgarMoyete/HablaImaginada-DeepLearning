{
 "cells": [
  {
   "cell_type": "code",
   "execution_count": null,
   "metadata": {},
   "outputs": [],
   "source": [
    "#Edgar Moises Hernandez-Gonzalez\n",
    "#09/07/19-16/12/19\n",
    "#Clasificar habla imaginada en EEG con ConvLSTM2D"
   ]
  },
  {
   "cell_type": "code",
   "execution_count": 1,
   "metadata": {},
   "outputs": [],
   "source": [
    "import numpy as np\n",
    "import pandas as pd\n",
    "import matplotlib.pyplot as plt\n",
    "from sklearn.model_selection import train_test_split\n",
    "from sklearn.preprocessing import StandardScaler\n",
    "from tensorflow.keras.models import Sequential\n",
    "from tensorflow.keras.layers import ConvLSTM2D, Dropout, Flatten, Dense"
   ]
  },
  {
   "cell_type": "code",
   "execution_count": 2,
   "metadata": {},
   "outputs": [],
   "source": [
    "datos = pd.read_csv(\"Submuestreo01.csv\", header=None)\n",
    "x = datos.iloc[:, 0:3072]\n",
    "y = datos.iloc[:, 3072]"
   ]
  },
  {
   "cell_type": "code",
   "execution_count": 3,
   "metadata": {},
   "outputs": [
    {
     "name": "stdout",
     "output_type": "stream",
     "text": [
      "(132, 3072)\n",
      "(132,)\n"
     ]
    }
   ],
   "source": [
    "print(x.shape)\n",
    "print(y.shape)"
   ]
  },
  {
   "cell_type": "code",
   "execution_count": 4,
   "metadata": {},
   "outputs": [
    {
     "name": "stdout",
     "output_type": "stream",
     "text": [
      "n_samples: 132\n"
     ]
    }
   ],
   "source": [
    "n_samples = len(y)\n",
    "print(\"n_samples:\", n_samples)"
   ]
  },
  {
   "cell_type": "code",
   "execution_count": 5,
   "metadata": {},
   "outputs": [
    {
     "name": "stdout",
     "output_type": "stream",
     "text": [
      "n_classes: 6\n"
     ]
    }
   ],
   "source": [
    "n_classes = len(np.unique(y))\n",
    "print(\"n_classes:\", n_classes)"
   ]
  },
  {
   "cell_type": "code",
   "execution_count": 6,
   "metadata": {},
   "outputs": [],
   "source": [
    "#escalar los datos para que tengan media = 0 y desviacion estandar = 1\n",
    "x = StandardScaler().fit_transform(x)"
   ]
  },
  {
   "cell_type": "code",
   "execution_count": 7,
   "metadata": {},
   "outputs": [
    {
     "name": "stdout",
     "output_type": "stream",
     "text": [
      "(132, 1, 1, 6, 512)\n"
     ]
    }
   ],
   "source": [
    "#convertir de 2D a 5D\n",
    "x = x.reshape((n_samples, 1, 1, 6, 512))\n",
    "print(x.shape)"
   ]
  },
  {
   "cell_type": "code",
   "execution_count": 9,
   "metadata": {},
   "outputs": [
    {
     "name": "stdout",
     "output_type": "stream",
     "text": [
      "(132, 1, 1, 512, 6)\n"
     ]
    }
   ],
   "source": [
    "x = np.transpose(x, (0,1,2,4,3))\n",
    "\n",
    "print(x.shape)"
   ]
  },
  {
   "cell_type": "code",
   "execution_count": 10,
   "metadata": {},
   "outputs": [],
   "source": [
    "#dividir en train y test\n",
    "x_train, x_test, y_train, y_test = train_test_split(x, y)"
   ]
  },
  {
   "cell_type": "code",
   "execution_count": 24,
   "metadata": {},
   "outputs": [],
   "source": [
    "model = Sequential()\n",
    "model.add(ConvLSTM2D(32, (1,3), activation='relu', input_shape=(1,1,512,6)))\n",
    "model.add(Dropout(0.5))\n",
    "model.add(Flatten())\n",
    "model.add(Dense(32, activation='relu'))\n",
    "model.add(Dense(n_classes, activation='softmax'))"
   ]
  },
  {
   "cell_type": "code",
   "execution_count": 25,
   "metadata": {},
   "outputs": [],
   "source": [
    "model.compile(optimizer='adam', loss='sparse_categorical_crossentropy', metrics=['accuracy'])"
   ]
  },
  {
   "cell_type": "code",
   "execution_count": 26,
   "metadata": {},
   "outputs": [
    {
     "name": "stdout",
     "output_type": "stream",
     "text": [
      "_________________________________________________________________\n",
      "Layer (type)                 Output Shape              Param #   \n",
      "=================================================================\n",
      "conv_lst_m2d_3 (ConvLSTM2D)  (None, 1, 510, 32)        14720     \n",
      "_________________________________________________________________\n",
      "dropout_3 (Dropout)          (None, 1, 510, 32)        0         \n",
      "_________________________________________________________________\n",
      "flatten_3 (Flatten)          (None, 16320)             0         \n",
      "_________________________________________________________________\n",
      "dense_5 (Dense)              (None, 32)                522272    \n",
      "_________________________________________________________________\n",
      "dense_6 (Dense)              (None, 6)                 198       \n",
      "=================================================================\n",
      "Total params: 537,190\n",
      "Trainable params: 537,190\n",
      "Non-trainable params: 0\n",
      "_________________________________________________________________\n"
     ]
    }
   ],
   "source": [
    "model.summary()"
   ]
  },
  {
   "cell_type": "code",
   "execution_count": 27,
   "metadata": {},
   "outputs": [
    {
     "name": "stdout",
     "output_type": "stream",
     "text": [
      "Train on 99 samples, validate on 33 samples\n",
      "Epoch 1/20\n",
      "99/99 [==============================] - 1s 9ms/sample - loss: 1.8088 - acc: 0.1212 - val_loss: 1.8096 - val_acc: 0.1212\n",
      "Epoch 2/20\n",
      "99/99 [==============================] - 0s 587us/sample - loss: 1.7301 - acc: 0.4141 - val_loss: 1.8105 - val_acc: 0.3030\n",
      "Epoch 3/20\n",
      "99/99 [==============================] - 0s 832us/sample - loss: 1.6106 - acc: 0.6263 - val_loss: 1.8005 - val_acc: 0.2121\n",
      "Epoch 4/20\n",
      "99/99 [==============================] - 0s 737us/sample - loss: 1.4759 - acc: 0.7980 - val_loss: 1.7976 - val_acc: 0.0909\n",
      "Epoch 5/20\n",
      "99/99 [==============================] - 0s 710us/sample - loss: 1.3128 - acc: 0.8687 - val_loss: 1.8218 - val_acc: 0.1212\n",
      "Epoch 6/20\n",
      "99/99 [==============================] - 0s 701us/sample - loss: 1.1691 - acc: 0.8586 - val_loss: 1.8419 - val_acc: 0.1212\n",
      "Epoch 7/20\n",
      "99/99 [==============================] - 0s 704us/sample - loss: 1.0011 - acc: 0.8990 - val_loss: 1.8547 - val_acc: 0.2121\n",
      "Epoch 8/20\n",
      "99/99 [==============================] - 0s 711us/sample - loss: 0.8450 - acc: 0.9394 - val_loss: 1.8897 - val_acc: 0.2424\n",
      "Epoch 9/20\n",
      "99/99 [==============================] - 0s 709us/sample - loss: 0.7049 - acc: 0.9293 - val_loss: 1.9485 - val_acc: 0.2424\n",
      "Epoch 10/20\n",
      "99/99 [==============================] - 0s 592us/sample - loss: 0.5616 - acc: 0.9596 - val_loss: 2.0312 - val_acc: 0.1818\n",
      "Epoch 11/20\n",
      "99/99 [==============================] - 0s 705us/sample - loss: 0.4423 - acc: 0.9798 - val_loss: 2.1452 - val_acc: 0.1515\n",
      "Epoch 12/20\n",
      "99/99 [==============================] - 0s 693us/sample - loss: 0.3481 - acc: 0.9798 - val_loss: 2.2794 - val_acc: 0.1515\n",
      "Epoch 13/20\n",
      "99/99 [==============================] - 0s 697us/sample - loss: 0.2630 - acc: 0.9899 - val_loss: 2.4232 - val_acc: 0.1212\n",
      "Epoch 14/20\n",
      "99/99 [==============================] - 0s 705us/sample - loss: 0.1982 - acc: 0.9899 - val_loss: 2.5633 - val_acc: 0.1212\n",
      "Epoch 15/20\n",
      "99/99 [==============================] - 0s 706us/sample - loss: 0.1404 - acc: 1.0000 - val_loss: 2.6886 - val_acc: 0.1818\n",
      "Epoch 16/20\n",
      "99/99 [==============================] - 0s 692us/sample - loss: 0.0983 - acc: 1.0000 - val_loss: 2.8179 - val_acc: 0.1818\n",
      "Epoch 17/20\n",
      "99/99 [==============================] - 0s 701us/sample - loss: 0.0712 - acc: 1.0000 - val_loss: 2.9469 - val_acc: 0.2424\n",
      "Epoch 18/20\n",
      "99/99 [==============================] - 0s 723us/sample - loss: 0.0504 - acc: 1.0000 - val_loss: 3.0798 - val_acc: 0.2424\n",
      "Epoch 19/20\n",
      "99/99 [==============================] - 0s 705us/sample - loss: 0.0304 - acc: 1.0000 - val_loss: 3.2221 - val_acc: 0.2424\n",
      "Epoch 20/20\n",
      "99/99 [==============================] - 0s 712us/sample - loss: 0.0269 - acc: 1.0000 - val_loss: 3.3713 - val_acc: 0.2121\n"
     ]
    }
   ],
   "source": [
    "history = model.fit(x_train, y_train, epochs = 20, batch_size = 99, validation_data=(x_test, y_test))"
   ]
  },
  {
   "cell_type": "code",
   "execution_count": 28,
   "metadata": {},
   "outputs": [
    {
     "name": "stdout",
     "output_type": "stream",
     "text": [
      "33/33 [==============================] - 0s 725us/sample - loss: 3.3713 - acc: 0.2121\n",
      "Test loss: 3.3713331439278345\n",
      "Test accuracy: 0.21212122\n"
     ]
    }
   ],
   "source": [
    "score = model.evaluate(x_test, y_test)\n",
    "print('Test loss:', score[0])\n",
    "print('Test accuracy:', score[1])"
   ]
  },
  {
   "cell_type": "code",
   "execution_count": 29,
   "metadata": {},
   "outputs": [
    {
     "data": {
      "image/png": "[encoded data removed]",
      "text/plain": [
       "<Figure size 432x288 with 1 Axes>"
      ]
     },
     "metadata": {
      "needs_background": "light"
     },
     "output_type": "display_data"
    }
   ],
   "source": [
    "plt.plot(history.history['acc'])\n",
    "plt.plot(history.history['val_acc'])\n",
    "plt.grid()\n",
    "plt.xlabel('Epocas')\n",
    "plt.ylabel('Accuracy')\n",
    "plt.legend(['train', 'test'])\n",
    "plt.show()"
   ]
  },
  {
   "cell_type": "code",
   "execution_count": 30,
   "metadata": {},
   "outputs": [
    {
     "data": {
      "image/png": "[encoded data removed]",
      "text/plain": [
       "<Figure size 432x288 with 1 Axes>"
      ]
     },
     "metadata": {
      "needs_background": "light"
     },
     "output_type": "display_data"
    }
   ],
   "source": [
    "plt.plot(history.history['loss'])\n",
    "plt.plot(history.history['val_loss'])\n",
    "plt.grid()\n",
    "plt.xlabel('Epocas')\n",
    "plt.ylabel('Entropia Cruzada')\n",
    "plt.legend(['train', 'test'])\n",
    "plt.show()"
   ]
  }
 ],
 "metadata": {
  "kernelspec": {
   "display_name": "Python 3",
   "language": "python",
   "name": "python3"
  },
  "language_info": {
   "codemirror_mode": {
    "name": "ipython",
    "version": 3
   },
   "file_extension": ".py",
   "mimetype": "text/x-python",
   "name": "python",
   "nbconvert_exporter": "python",
   "pygments_lexer": "ipython3",
   "version": "3.7.3"
  }
 },
 "nbformat": 4,
 "nbformat_minor": 2
}
