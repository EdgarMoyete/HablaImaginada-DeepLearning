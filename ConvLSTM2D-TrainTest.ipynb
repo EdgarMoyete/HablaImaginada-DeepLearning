{
 "cells": [
  {
   "cell_type": "code",
   "execution_count": null,
   "metadata": {},
   "outputs": [],
   "source": [
    "#Edgar Moises Hernandez-Gonzalez\n",
    "#09/07/19\n",
    "#CNNLSTM2D"
   ]
  },
  {
   "cell_type": "code",
   "execution_count": 1,
   "metadata": {},
   "outputs": [],
   "source": [
    "import pandas as pd\n",
    "from sklearn.model_selection import train_test_split\n",
    "from sklearn.preprocessing import StandardScaler\n",
    "from tensorflow.keras import layers, models\n",
    "import matplotlib.pyplot as plt"
   ]
  },
  {
   "cell_type": "code",
   "execution_count": 2,
   "metadata": {},
   "outputs": [
    {
     "name": "stdout",
     "output_type": "stream",
     "text": [
      "(132, 3072)\n",
      "(132,)\n",
      "132\n"
     ]
    }
   ],
   "source": [
    "datos = pd.read_csv(\"Submuestreo01.csv\", header=None)\n",
    "x = datos.iloc[:, 0:3072].values\n",
    "y = datos.iloc[:, 3072].values\n",
    "\n",
    "num_classes = 6\n",
    "n_samples = len(y)\n",
    "print(x.shape)\n",
    "print(y.shape)\n",
    "print(n_samples)"
   ]
  },
  {
   "cell_type": "code",
   "execution_count": 3,
   "metadata": {},
   "outputs": [],
   "source": [
    "#escalar los datos para que tengan media = 0 y desviacion estandar = 1\n",
    "scaler = StandardScaler().fit(x)\n",
    "x = scaler.transform(x)"
   ]
  },
  {
   "cell_type": "code",
   "execution_count": 4,
   "metadata": {},
   "outputs": [
    {
     "name": "stdout",
     "output_type": "stream",
     "text": [
      "(132, 1, 1, 512, 6)\n"
     ]
    }
   ],
   "source": [
    "#convertir de 2D a 5D\n",
    "x = x.reshape((n_samples, 1, 1, 512, 6))\n",
    "print(x.shape)"
   ]
  },
  {
   "cell_type": "code",
   "execution_count": 5,
   "metadata": {},
   "outputs": [],
   "source": [
    "#dividir en train y test\n",
    "x_train, x_test, y_train, y_test = train_test_split(x, y)"
   ]
  },
  {
   "cell_type": "code",
   "execution_count": 6,
   "metadata": {},
   "outputs": [
    {
     "name": "stdout",
     "output_type": "stream",
     "text": [
      "WARNING:tensorflow:From C:\\Users\\EdgarMoises\\Anaconda3\\lib\\site-packages\\tensorflow\\python\\ops\\resource_variable_ops.py:435: colocate_with (from tensorflow.python.framework.ops) is deprecated and will be removed in a future version.\n",
      "Instructions for updating:\n",
      "Colocations handled automatically by placer.\n",
      "WARNING:tensorflow:From C:\\Users\\EdgarMoises\\Anaconda3\\lib\\site-packages\\tensorflow\\python\\keras\\layers\\core.py:143: calling dropout (from tensorflow.python.ops.nn_ops) with keep_prob is deprecated and will be removed in a future version.\n",
      "Instructions for updating:\n",
      "Please use `rate` instead of `keep_prob`. Rate should be set to `rate = 1 - keep_prob`.\n"
     ]
    }
   ],
   "source": [
    "model = models.Sequential()\n",
    "model.add(layers.ConvLSTM2D(filters=64, kernel_size=(1,3), activation='relu', input_shape=(1,1,512,6)))\n",
    "model.add(layers.Dropout(0.5))\n",
    "model.add(layers.Flatten())\n",
    "model.add(layers.Dense(100, activation='relu'))\n",
    "model.add(layers.Dense(num_classes, activation='softmax'))"
   ]
  },
  {
   "cell_type": "code",
   "execution_count": 7,
   "metadata": {},
   "outputs": [
    {
     "name": "stdout",
     "output_type": "stream",
     "text": [
      "_________________________________________________________________\n",
      "Layer (type)                 Output Shape              Param #   \n",
      "=================================================================\n",
      "conv_lst_m2d (ConvLSTM2D)    (None, 1, 510, 64)        54016     \n",
      "_________________________________________________________________\n",
      "dropout (Dropout)            (None, 1, 510, 64)        0         \n",
      "_________________________________________________________________\n",
      "flatten (Flatten)            (None, 32640)             0         \n",
      "_________________________________________________________________\n",
      "dense (Dense)                (None, 100)               3264100   \n",
      "_________________________________________________________________\n",
      "dense_1 (Dense)              (None, 6)                 606       \n",
      "=================================================================\n",
      "Total params: 3,318,722\n",
      "Trainable params: 3,318,722\n",
      "Non-trainable params: 0\n",
      "_________________________________________________________________\n"
     ]
    }
   ],
   "source": [
    "model.summary()"
   ]
  },
  {
   "cell_type": "code",
   "execution_count": 8,
   "metadata": {},
   "outputs": [],
   "source": [
    "model.compile(optimizer='adam', loss='sparse_categorical_crossentropy', metrics=['accuracy'])"
   ]
  },
  {
   "cell_type": "code",
   "execution_count": 9,
   "metadata": {},
   "outputs": [
    {
     "name": "stdout",
     "output_type": "stream",
     "text": [
      "Train on 99 samples, validate on 33 samples\n",
      "Epoch 1/20\n",
      "99/99 [==============================] - 5s 52ms/sample - loss: 1.7908 - acc: 0.2121 - val_loss: 1.7968 - val_acc: 0.2121\n",
      "Epoch 2/20\n",
      "99/99 [==============================] - 0s 2ms/sample - loss: 1.5806 - acc: 0.3939 - val_loss: 1.8411 - val_acc: 0.1515\n",
      "Epoch 3/20\n",
      "99/99 [==============================] - 0s 2ms/sample - loss: 1.2572 - acc: 0.7980 - val_loss: 1.8272 - val_acc: 0.0909\n",
      "Epoch 4/20\n",
      "99/99 [==============================] - 0s 2ms/sample - loss: 0.9518 - acc: 0.8990 - val_loss: 1.8540 - val_acc: 0.1515\n",
      "Epoch 5/20\n",
      "99/99 [==============================] - 0s 2ms/sample - loss: 0.6979 - acc: 0.9495 - val_loss: 1.9641 - val_acc: 0.1818\n",
      "Epoch 6/20\n",
      "99/99 [==============================] - 0s 2ms/sample - loss: 0.4742 - acc: 0.9697 - val_loss: 2.0953 - val_acc: 0.1515\n",
      "Epoch 7/20\n",
      "99/99 [==============================] - 0s 2ms/sample - loss: 0.3130 - acc: 0.9899 - val_loss: 2.1698 - val_acc: 0.1212\n",
      "Epoch 8/20\n",
      "99/99 [==============================] - 0s 2ms/sample - loss: 0.2007 - acc: 1.0000 - val_loss: 2.2352 - val_acc: 0.1212\n",
      "Epoch 9/20\n",
      "99/99 [==============================] - 0s 2ms/sample - loss: 0.1206 - acc: 1.0000 - val_loss: 2.3590 - val_acc: 0.1212\n",
      "Epoch 10/20\n",
      "99/99 [==============================] - 0s 2ms/sample - loss: 0.0685 - acc: 1.0000 - val_loss: 2.5322 - val_acc: 0.1212\n",
      "Epoch 11/20\n",
      "99/99 [==============================] - 0s 2ms/sample - loss: 0.0413 - acc: 1.0000 - val_loss: 2.7375 - val_acc: 0.1212\n",
      "Epoch 12/20\n",
      "99/99 [==============================] - 0s 2ms/sample - loss: 0.0232 - acc: 1.0000 - val_loss: 2.9458 - val_acc: 0.0909\n",
      "Epoch 13/20\n",
      "99/99 [==============================] - 0s 2ms/sample - loss: 0.0134 - acc: 1.0000 - val_loss: 3.1439 - val_acc: 0.0909\n",
      "Epoch 14/20\n",
      "99/99 [==============================] - 0s 2ms/sample - loss: 0.0085 - acc: 1.0000 - val_loss: 3.3298 - val_acc: 0.0909\n",
      "Epoch 15/20\n",
      "99/99 [==============================] - 0s 2ms/sample - loss: 0.0053 - acc: 1.0000 - val_loss: 3.5027 - val_acc: 0.0909\n",
      "Epoch 16/20\n",
      "99/99 [==============================] - 0s 2ms/sample - loss: 0.0031 - acc: 1.0000 - val_loss: 3.6653 - val_acc: 0.0909\n",
      "Epoch 17/20\n",
      "99/99 [==============================] - 0s 2ms/sample - loss: 0.0020 - acc: 1.0000 - val_loss: 3.8178 - val_acc: 0.0909\n",
      "Epoch 18/20\n",
      "99/99 [==============================] - 0s 2ms/sample - loss: 0.0012 - acc: 1.0000 - val_loss: 3.9594 - val_acc: 0.0909\n",
      "Epoch 19/20\n",
      "99/99 [==============================] - 0s 2ms/sample - loss: 8.6632e-04 - acc: 1.0000 - val_loss: 4.0915 - val_acc: 0.0909\n",
      "Epoch 20/20\n",
      "99/99 [==============================] - 0s 2ms/sample - loss: 6.3212e-04 - acc: 1.0000 - val_loss: 4.2145 - val_acc: 0.0909\n"
     ]
    }
   ],
   "source": [
    "history = model.fit(x_train, y_train, epochs = 20, batch_size = 99, validation_data=(x_test, y_test))"
   ]
  },
  {
   "cell_type": "code",
   "execution_count": 10,
   "metadata": {},
   "outputs": [
    {
     "name": "stdout",
     "output_type": "stream",
     "text": [
      "33/33 [==============================] - 0s 1ms/sample - loss: 4.2145 - acc: 0.0909\n",
      "Test loss: 4.214531942298918\n",
      "Test accuracy: 0.09090909\n"
     ]
    }
   ],
   "source": [
    "score = model.evaluate(x_test, y_test)\n",
    "print('Test loss:', score[0])\n",
    "print('Test accuracy:', score[1])"
   ]
  },
  {
   "cell_type": "code",
   "execution_count": 11,
   "metadata": {},
   "outputs": [
    {
     "data": {
      "image/png": "[encoded data removed]",
      "text/plain": [
       "<Figure size 432x288 with 1 Axes>"
      ]
     },
     "metadata": {
      "needs_background": "light"
     },
     "output_type": "display_data"
    }
   ],
   "source": [
    "plt.plot(history.history['acc'])\n",
    "plt.plot(history.history['val_acc'])\n",
    "plt.grid()\n",
    "plt.xlabel('Epocas')\n",
    "plt.ylabel('Accuracy')\n",
    "plt.legend(['train', 'test'])\n",
    "plt.show()"
   ]
  },
  {
   "cell_type": "code",
   "execution_count": 12,
   "metadata": {},
   "outputs": [
    {
     "data": {
      "image/png": "[encoded data removed]",
      "text/plain": [
       "<Figure size 432x288 with 1 Axes>"
      ]
     },
     "metadata": {
      "needs_background": "light"
     },
     "output_type": "display_data"
    }
   ],
   "source": [
    "plt.plot(history.history['loss'])\n",
    "plt.plot(history.history['val_loss'])\n",
    "plt.grid()\n",
    "plt.xlabel('Epocas')\n",
    "plt.ylabel('Entropia Cruzada')\n",
    "plt.legend(['train', 'test'])\n",
    "plt.show()"
   ]
  }
 ],
 "metadata": {
  "kernelspec": {
   "display_name": "Python 3",
   "language": "python",
   "name": "python3"
  },
  "language_info": {
   "codemirror_mode": {
    "name": "ipython",
    "version": 3
   },
   "file_extension": ".py",
   "mimetype": "text/x-python",
   "name": "python",
   "nbconvert_exporter": "python",
   "pygments_lexer": "ipython3",
   "version": "3.7.3"
  }
 },
 "nbformat": 4,
 "nbformat_minor": 2
}
