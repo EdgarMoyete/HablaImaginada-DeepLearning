{
 "cells": [
  {
   "cell_type": "code",
   "execution_count": 1,
   "metadata": {},
   "outputs": [],
   "source": [
    "#Edgar Moises Hernandez-Gonzalez\n",
    "#08/07/19-16/12/19\n",
    "#Clasificar habla imaginada en EEG sin parpadeo con CNN de 1 capa"
   ]
  },
  {
   "cell_type": "code",
   "execution_count": 1,
   "metadata": {},
   "outputs": [],
   "source": [
    "import numpy as np\n",
    "import pandas as pd\n",
    "import matplotlib.pyplot as plt\n",
    "from sklearn.model_selection import train_test_split\n",
    "from sklearn.preprocessing import StandardScaler\n",
    "from tensorflow.keras.models import Sequential\n",
    "from tensorflow.keras.layers import Conv2D, MaxPool2D, Flatten, Dense, Dropout"
   ]
  },
  {
   "cell_type": "code",
   "execution_count": 2,
   "metadata": {},
   "outputs": [],
   "source": [
    "datos = pd.read_csv(\"Submuestreo01.csv\", header=None)\n",
    "x = datos.iloc[:, 0:3072]\n",
    "y = datos.iloc[:, 3072]"
   ]
  },
  {
   "cell_type": "code",
   "execution_count": 3,
   "metadata": {},
   "outputs": [
    {
     "name": "stdout",
     "output_type": "stream",
     "text": [
      "(132, 3072)\n",
      "(132,)\n"
     ]
    }
   ],
   "source": [
    "print(x.shape)\n",
    "print(y.shape)"
   ]
  },
  {
   "cell_type": "code",
   "execution_count": 4,
   "metadata": {},
   "outputs": [
    {
     "name": "stdout",
     "output_type": "stream",
     "text": [
      "n_samples: 132\n"
     ]
    }
   ],
   "source": [
    "n_samples = len(y)\n",
    "print(\"n_samples:\", n_samples)"
   ]
  },
  {
   "cell_type": "code",
   "execution_count": 5,
   "metadata": {},
   "outputs": [
    {
     "name": "stdout",
     "output_type": "stream",
     "text": [
      "n_classes: 6\n"
     ]
    }
   ],
   "source": [
    "n_classes = len(np.unique(y))\n",
    "print(\"n_classes:\", n_classes)"
   ]
  },
  {
   "cell_type": "code",
   "execution_count": 6,
   "metadata": {},
   "outputs": [],
   "source": [
    "#escalar los datos para que tengan media = 0 y desviacion estandar = 1\n",
    "x = StandardScaler().fit_transform(x)"
   ]
  },
  {
   "cell_type": "code",
   "execution_count": 7,
   "metadata": {},
   "outputs": [
    {
     "name": "stdout",
     "output_type": "stream",
     "text": [
      "(132, 6, 512, 1)\n"
     ]
    }
   ],
   "source": [
    "#convertir de 2D a 4D\n",
    "x = x.reshape((n_samples, 6, 512, 1))\n",
    "print(x.shape)"
   ]
  },
  {
   "cell_type": "code",
   "execution_count": 8,
   "metadata": {},
   "outputs": [],
   "source": [
    "#dividir en train y test\n",
    "x_train, x_test, y_train, y_test = train_test_split(x, y)"
   ]
  },
  {
   "cell_type": "code",
   "execution_count": 40,
   "metadata": {},
   "outputs": [],
   "source": [
    "model = Sequential()\n",
    "model.add(Conv2D(64, (3, 7), activation='relu', input_shape=(6, 512, 1)))\n",
    "model.add(MaxPool2D((2, 2)))\n",
    "model.add(Flatten())\n",
    "model.add(Dense(32, activation='relu'))\n",
    "model.add(Dropout(0.2))\n",
    "model.add(Dense(n_classes, activation='softmax'))"
   ]
  },
  {
   "cell_type": "code",
   "execution_count": 41,
   "metadata": {},
   "outputs": [],
   "source": [
    "model.compile(optimizer='adam', loss='sparse_categorical_crossentropy', metrics=['accuracy'])"
   ]
  },
  {
   "cell_type": "code",
   "execution_count": 42,
   "metadata": {},
   "outputs": [
    {
     "name": "stdout",
     "output_type": "stream",
     "text": [
      "_________________________________________________________________\n",
      "Layer (type)                 Output Shape              Param #   \n",
      "=================================================================\n",
      "conv2d_5 (Conv2D)            (None, 4, 506, 64)        1408      \n",
      "_________________________________________________________________\n",
      "max_pooling2d_5 (MaxPooling2 (None, 2, 253, 64)        0         \n",
      "_________________________________________________________________\n",
      "flatten_5 (Flatten)          (None, 32384)             0         \n",
      "_________________________________________________________________\n",
      "dense_9 (Dense)              (None, 32)                1036320   \n",
      "_________________________________________________________________\n",
      "dropout_5 (Dropout)          (None, 32)                0         \n",
      "_________________________________________________________________\n",
      "dense_10 (Dense)             (None, 6)                 198       \n",
      "=================================================================\n",
      "Total params: 1,037,926\n",
      "Trainable params: 1,037,926\n",
      "Non-trainable params: 0\n",
      "_________________________________________________________________\n"
     ]
    }
   ],
   "source": [
    "model.summary()"
   ]
  },
  {
   "cell_type": "code",
   "execution_count": 43,
   "metadata": {},
   "outputs": [
    {
     "name": "stdout",
     "output_type": "stream",
     "text": [
      "Train on 99 samples, validate on 33 samples\n",
      "Epoch 1/20\n",
      "99/99 [==============================] - 0s 4ms/sample - loss: 2.5985 - acc: 0.1414 - val_loss: 2.7593 - val_acc: 0.2121\n",
      "Epoch 2/20\n",
      "99/99 [==============================] - 0s 504us/sample - loss: 2.3866 - acc: 0.1515 - val_loss: 2.4254 - val_acc: 0.1818\n",
      "Epoch 3/20\n",
      "99/99 [==============================] - 0s 524us/sample - loss: 2.1956 - acc: 0.1313 - val_loss: 1.9521 - val_acc: 0.0909\n",
      "Epoch 4/20\n",
      "99/99 [==============================] - 0s 494us/sample - loss: 1.6024 - acc: 0.2828 - val_loss: 2.0602 - val_acc: 0.0909\n",
      "Epoch 5/20\n",
      "99/99 [==============================] - 0s 507us/sample - loss: 1.6382 - acc: 0.3333 - val_loss: 1.9282 - val_acc: 0.1515\n",
      "Epoch 6/20\n",
      "99/99 [==============================] - 0s 504us/sample - loss: 1.6577 - acc: 0.3131 - val_loss: 1.9244 - val_acc: 0.1515\n",
      "Epoch 7/20\n",
      "99/99 [==============================] - 0s 505us/sample - loss: 1.5564 - acc: 0.3535 - val_loss: 1.9529 - val_acc: 0.1515\n",
      "Epoch 8/20\n",
      "99/99 [==============================] - 0s 504us/sample - loss: 1.4455 - acc: 0.4242 - val_loss: 1.9249 - val_acc: 0.1212\n",
      "Epoch 9/20\n",
      "99/99 [==============================] - 0s 494us/sample - loss: 1.4231 - acc: 0.4747 - val_loss: 1.9074 - val_acc: 0.1515\n",
      "Epoch 10/20\n",
      "99/99 [==============================] - 0s 504us/sample - loss: 1.3729 - acc: 0.4848 - val_loss: 1.9122 - val_acc: 0.2121\n",
      "Epoch 11/20\n",
      "99/99 [==============================] - 0s 504us/sample - loss: 1.3738 - acc: 0.4848 - val_loss: 1.9687 - val_acc: 0.2121\n",
      "Epoch 12/20\n",
      "99/99 [==============================] - 0s 514us/sample - loss: 1.2149 - acc: 0.5455 - val_loss: 2.0297 - val_acc: 0.1818\n",
      "Epoch 13/20\n",
      "99/99 [==============================] - 0s 504us/sample - loss: 1.2161 - acc: 0.5455 - val_loss: 2.0917 - val_acc: 0.1818\n",
      "Epoch 14/20\n",
      "99/99 [==============================] - 0s 484us/sample - loss: 1.1355 - acc: 0.6162 - val_loss: 2.1835 - val_acc: 0.1515\n",
      "Epoch 15/20\n",
      "99/99 [==============================] - 0s 511us/sample - loss: 1.0674 - acc: 0.5859 - val_loss: 2.2199 - val_acc: 0.1515\n",
      "Epoch 16/20\n",
      "99/99 [==============================] - 0s 504us/sample - loss: 1.0508 - acc: 0.5859 - val_loss: 2.1931 - val_acc: 0.1818\n",
      "Epoch 17/20\n",
      "99/99 [==============================] - 0s 537us/sample - loss: 0.9881 - acc: 0.6263 - val_loss: 2.2199 - val_acc: 0.1515\n",
      "Epoch 18/20\n",
      "99/99 [==============================] - 0s 514us/sample - loss: 0.9124 - acc: 0.6465 - val_loss: 2.2664 - val_acc: 0.1818\n",
      "Epoch 19/20\n",
      "99/99 [==============================] - 0s 504us/sample - loss: 0.9236 - acc: 0.6162 - val_loss: 2.3066 - val_acc: 0.2121\n",
      "Epoch 20/20\n",
      "99/99 [==============================] - 0s 494us/sample - loss: 0.8916 - acc: 0.6465 - val_loss: 2.3754 - val_acc: 0.2121\n"
     ]
    }
   ],
   "source": [
    "history = model.fit(x_train, y_train, epochs = 20, batch_size = 64, validation_data=(x_test, y_test))"
   ]
  },
  {
   "cell_type": "code",
   "execution_count": 44,
   "metadata": {},
   "outputs": [
    {
     "name": "stdout",
     "output_type": "stream",
     "text": [
      "33/33 [==============================] - 0s 907us/sample - loss: 2.3754 - acc: 0.2121\n",
      "Test loss: 2.3754485231457334\n",
      "Test accuracy: 0.21212122\n"
     ]
    }
   ],
   "source": [
    "score = model.evaluate(x_test, y_test)\n",
    "print('Test loss:', score[0])\n",
    "print('Test accuracy:', score[1])"
   ]
  },
  {
   "cell_type": "code",
   "execution_count": 45,
   "metadata": {},
   "outputs": [
    {
     "data": {
      "image/png": "[encoded data removed]",
      "text/plain": [
       "<Figure size 432x288 with 1 Axes>"
      ]
     },
     "metadata": {
      "needs_background": "light"
     },
     "output_type": "display_data"
    }
   ],
   "source": [
    "plt.plot(history.history['acc'])\n",
    "plt.plot(history.history['val_acc'])\n",
    "plt.grid()\n",
    "plt.xlabel('Epocas')\n",
    "plt.ylabel('Accuracy')\n",
    "plt.legend(['train', 'test'])\n",
    "plt.show()"
   ]
  },
  {
   "cell_type": "code",
   "execution_count": 46,
   "metadata": {},
   "outputs": [
    {
     "data": {
      "image/png": "[encoded data removed]",
      "text/plain": [
       "<Figure size 432x288 with 1 Axes>"
      ]
     },
     "metadata": {
      "needs_background": "light"
     },
     "output_type": "display_data"
    }
   ],
   "source": [
    "plt.plot(history.history['loss'])\n",
    "plt.plot(history.history['val_loss'])\n",
    "plt.grid()\n",
    "plt.xlabel('Epocas')\n",
    "plt.ylabel('Entropia Cruzada')\n",
    "plt.legend(['train', 'test'])\n",
    "plt.show()"
   ]
  }
 ],
 "metadata": {
  "kernelspec": {
   "display_name": "Python 3",
   "language": "python",
   "name": "python3"
  },
  "language_info": {
   "codemirror_mode": {
    "name": "ipython",
    "version": 3
   },
   "file_extension": ".py",
   "mimetype": "text/x-python",
   "name": "python",
   "nbconvert_exporter": "python",
   "pygments_lexer": "ipython3",
   "version": "3.7.3"
  }
 },
 "nbformat": 4,
 "nbformat_minor": 2
}
