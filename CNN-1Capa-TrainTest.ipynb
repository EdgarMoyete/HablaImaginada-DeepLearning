{
 "cells": [
  {
   "cell_type": "code",
   "execution_count": 1,
   "metadata": {},
   "outputs": [],
   "source": [
    "#Edgar Moises Hernandez-Gonzalez\n",
    "#08/07/19-04/11/19\n",
    "#clasificar EEG de habla imaginada con CNN\n",
    "#1 capa de 32@3x33"
   ]
  },
  {
   "cell_type": "code",
   "execution_count": 2,
   "metadata": {},
   "outputs": [],
   "source": [
    "import pandas as pd\n",
    "from sklearn.model_selection import train_test_split\n",
    "from sklearn.preprocessing import StandardScaler\n",
    "import tensorflow as tf\n",
    "from tensorflow.keras import layers, models\n",
    "import matplotlib.pyplot as plt"
   ]
  },
  {
   "cell_type": "code",
   "execution_count": 3,
   "metadata": {},
   "outputs": [
    {
     "name": "stdout",
     "output_type": "stream",
     "text": [
      "(225, 3072)\n",
      "(225,)\n",
      "225\n"
     ]
    }
   ],
   "source": [
    "datos = pd.read_csv(\"Submuestreo02.csv\", header=None)\n",
    "x = datos.iloc[:, 0:3072].values\n",
    "y = datos.iloc[:, 3072].values\n",
    "\n",
    "num_classes = 6\n",
    "n_samples = len(y)\n",
    "print(x.shape)\n",
    "print(y.shape)\n",
    "print(n_samples)"
   ]
  },
  {
   "cell_type": "code",
   "execution_count": 4,
   "metadata": {},
   "outputs": [],
   "source": [
    "#escalar los datos para que tengan media = 0 y desviacion estandar = 1\n",
    "scaler = StandardScaler().fit(x)\n",
    "x = scaler.transform(x)"
   ]
  },
  {
   "cell_type": "code",
   "execution_count": 5,
   "metadata": {},
   "outputs": [
    {
     "name": "stdout",
     "output_type": "stream",
     "text": [
      "(225, 6, 512, 1)\n"
     ]
    }
   ],
   "source": [
    "#convertir de 2D a 4D\n",
    "x = x.reshape((n_samples, 6, 512, 1))\n",
    "print(x.shape)"
   ]
  },
  {
   "cell_type": "code",
   "execution_count": 6,
   "metadata": {},
   "outputs": [],
   "source": [
    "#dividir en train y test\n",
    "x_train, x_test, y_train, y_test = train_test_split(x, y)"
   ]
  },
  {
   "cell_type": "code",
   "execution_count": 7,
   "metadata": {},
   "outputs": [
    {
     "name": "stdout",
     "output_type": "stream",
     "text": [
      "WARNING:tensorflow:From C:\\Users\\EdgarMoises\\Anaconda3\\lib\\site-packages\\tensorflow\\python\\ops\\resource_variable_ops.py:435: colocate_with (from tensorflow.python.framework.ops) is deprecated and will be removed in a future version.\n",
      "Instructions for updating:\n",
      "Colocations handled automatically by placer.\n",
      "WARNING:tensorflow:From C:\\Users\\EdgarMoises\\Anaconda3\\lib\\site-packages\\tensorflow\\python\\keras\\layers\\core.py:143: calling dropout (from tensorflow.python.ops.nn_ops) with keep_prob is deprecated and will be removed in a future version.\n",
      "Instructions for updating:\n",
      "Please use `rate` instead of `keep_prob`. Rate should be set to `rate = 1 - keep_prob`.\n"
     ]
    }
   ],
   "source": [
    "model = models.Sequential()\n",
    "model.add(layers.Conv2D(32, (3, 33), activation='relu', input_shape=(6, 512, 1)))\n",
    "model.add(layers.MaxPool2D((2, 2)))\n",
    "model.add(layers.Flatten())\n",
    "model.add(layers.Dense(64, activation='relu'))\n",
    "model.add(layers.Dropout(0.2))\n",
    "model.add(layers.Dense(num_classes, activation='softmax'))"
   ]
  },
  {
   "cell_type": "code",
   "execution_count": 8,
   "metadata": {},
   "outputs": [
    {
     "name": "stdout",
     "output_type": "stream",
     "text": [
      "_________________________________________________________________\n",
      "Layer (type)                 Output Shape              Param #   \n",
      "=================================================================\n",
      "conv2d (Conv2D)              (None, 4, 480, 32)        3200      \n",
      "_________________________________________________________________\n",
      "max_pooling2d (MaxPooling2D) (None, 2, 240, 32)        0         \n",
      "_________________________________________________________________\n",
      "flatten (Flatten)            (None, 15360)             0         \n",
      "_________________________________________________________________\n",
      "dense (Dense)                (None, 64)                983104    \n",
      "_________________________________________________________________\n",
      "dropout (Dropout)            (None, 64)                0         \n",
      "_________________________________________________________________\n",
      "dense_1 (Dense)              (None, 6)                 390       \n",
      "=================================================================\n",
      "Total params: 986,694\n",
      "Trainable params: 986,694\n",
      "Non-trainable params: 0\n",
      "_________________________________________________________________\n"
     ]
    }
   ],
   "source": [
    "model.summary()"
   ]
  },
  {
   "cell_type": "code",
   "execution_count": 9,
   "metadata": {},
   "outputs": [],
   "source": [
    "model.compile(optimizer='adam', loss='sparse_categorical_crossentropy', metrics=['accuracy'])"
   ]
  },
  {
   "cell_type": "code",
   "execution_count": 10,
   "metadata": {},
   "outputs": [
    {
     "name": "stdout",
     "output_type": "stream",
     "text": [
      "Train on 168 samples, validate on 57 samples\n",
      "Epoch 1/20\n",
      "168/168 [==============================] - 3s 21ms/sample - loss: 3.1374 - acc: 0.1667 - val_loss: 2.7609 - val_acc: 0.2456\n",
      "Epoch 2/20\n",
      "168/168 [==============================] - 0s 405us/sample - loss: 2.5063 - acc: 0.1548 - val_loss: 2.0082 - val_acc: 0.1404\n",
      "Epoch 3/20\n",
      "168/168 [==============================] - 0s 415us/sample - loss: 1.7573 - acc: 0.3214 - val_loss: 2.0677 - val_acc: 0.1228\n",
      "Epoch 4/20\n",
      "168/168 [==============================] - 0s 483us/sample - loss: 1.7286 - acc: 0.2798 - val_loss: 2.0021 - val_acc: 0.1404\n",
      "Epoch 5/20\n",
      "168/168 [==============================] - 0s 427us/sample - loss: 1.6617 - acc: 0.3452 - val_loss: 1.8516 - val_acc: 0.0877\n",
      "Epoch 6/20\n",
      "168/168 [==============================] - 0s 461us/sample - loss: 1.5659 - acc: 0.4048 - val_loss: 1.8357 - val_acc: 0.0702\n",
      "Epoch 7/20\n",
      "168/168 [==============================] - 0s 465us/sample - loss: 1.4284 - acc: 0.5238 - val_loss: 1.8533 - val_acc: 0.1228\n",
      "Epoch 8/20\n",
      "168/168 [==============================] - 0s 489us/sample - loss: 1.3689 - acc: 0.5952 - val_loss: 1.8706 - val_acc: 0.1228\n",
      "Epoch 9/20\n",
      "168/168 [==============================] - 0s 468us/sample - loss: 1.3009 - acc: 0.5060 - val_loss: 1.9211 - val_acc: 0.1404\n",
      "Epoch 10/20\n",
      "168/168 [==============================] - 0s 459us/sample - loss: 1.2155 - acc: 0.5714 - val_loss: 1.9840 - val_acc: 0.1228\n",
      "Epoch 11/20\n",
      "168/168 [==============================] - 0s 490us/sample - loss: 1.1452 - acc: 0.5893 - val_loss: 1.9905 - val_acc: 0.2456\n",
      "Epoch 12/20\n",
      "168/168 [==============================] - 0s 450us/sample - loss: 1.0060 - acc: 0.7500 - val_loss: 2.0784 - val_acc: 0.1754\n",
      "Epoch 13/20\n",
      "168/168 [==============================] - 0s 438us/sample - loss: 0.9367 - acc: 0.7083 - val_loss: 2.1845 - val_acc: 0.1404\n",
      "Epoch 14/20\n",
      "168/168 [==============================] - 0s 449us/sample - loss: 0.8632 - acc: 0.7262 - val_loss: 2.2240 - val_acc: 0.1930\n",
      "Epoch 15/20\n",
      "168/168 [==============================] - 0s 471us/sample - loss: 0.7639 - acc: 0.7679 - val_loss: 2.2457 - val_acc: 0.1754\n",
      "Epoch 16/20\n",
      "168/168 [==============================] - 0s 439us/sample - loss: 0.7464 - acc: 0.7202 - val_loss: 2.3987 - val_acc: 0.2456\n",
      "Epoch 17/20\n",
      "168/168 [==============================] - 0s 514us/sample - loss: 0.6205 - acc: 0.8155 - val_loss: 2.5563 - val_acc: 0.1930\n",
      "Epoch 18/20\n",
      "168/168 [==============================] - 0s 526us/sample - loss: 0.6074 - acc: 0.8333 - val_loss: 2.5510 - val_acc: 0.2105\n",
      "Epoch 19/20\n",
      "168/168 [==============================] - 0s 466us/sample - loss: 0.5360 - acc: 0.8631 - val_loss: 2.6260 - val_acc: 0.1930\n",
      "Epoch 20/20\n",
      "168/168 [==============================] - 0s 440us/sample - loss: 0.4783 - acc: 0.8810 - val_loss: 2.7616 - val_acc: 0.2632\n"
     ]
    }
   ],
   "source": [
    "history = model.fit(x_train, y_train, epochs = 20, batch_size = 64, validation_data=(x_test, y_test))"
   ]
  },
  {
   "cell_type": "code",
   "execution_count": 11,
   "metadata": {},
   "outputs": [
    {
     "name": "stdout",
     "output_type": "stream",
     "text": [
      "57/57 [==============================] - 0s 528us/sample - loss: 2.7616 - acc: 0.2632\n",
      "Test loss: 2.7616006826099597\n",
      "Test accuracy: 0.2631579\n"
     ]
    }
   ],
   "source": [
    "score = model.evaluate(x_test, y_test)\n",
    "print('Test loss:', score[0])\n",
    "print('Test accuracy:', score[1])"
   ]
  },
  {
   "cell_type": "code",
   "execution_count": 12,
   "metadata": {},
   "outputs": [
    {
     "data": {
      "image/png": "[encoded data removed]",
      "text/plain": [
       "<Figure size 432x288 with 1 Axes>"
      ]
     },
     "metadata": {
      "needs_background": "light"
     },
     "output_type": "display_data"
    }
   ],
   "source": [
    "plt.plot(history.history['acc'])\n",
    "plt.plot(history.history['val_acc'])\n",
    "plt.grid()\n",
    "plt.xlabel('Epocas')\n",
    "plt.ylabel('Accuracy')\n",
    "plt.legend(['train', 'test'])\n",
    "plt.show()"
   ]
  },
  {
   "cell_type": "code",
   "execution_count": 13,
   "metadata": {},
   "outputs": [
    {
     "data": {
      "image/png": "[encoded data removed]",
      "text/plain": [
       "<Figure size 432x288 with 1 Axes>"
      ]
     },
     "metadata": {
      "needs_background": "light"
     },
     "output_type": "display_data"
    }
   ],
   "source": [
    "plt.plot(history.history['loss'])\n",
    "plt.plot(history.history['val_loss'])\n",
    "plt.grid()\n",
    "plt.xlabel('Epocas')\n",
    "plt.ylabel('Entropia Cruzada')\n",
    "plt.legend(['train', 'test'])\n",
    "plt.show()"
   ]
  }
 ],
 "metadata": {
  "kernelspec": {
   "display_name": "Python 3",
   "language": "python",
   "name": "python3"
  },
  "language_info": {
   "codemirror_mode": {
    "name": "ipython",
    "version": 3
   },
   "file_extension": ".py",
   "mimetype": "text/x-python",
   "name": "python",
   "nbconvert_exporter": "python",
   "pygments_lexer": "ipython3",
   "version": "3.7.3"
  }
 },
 "nbformat": 4,
 "nbformat_minor": 2
}
