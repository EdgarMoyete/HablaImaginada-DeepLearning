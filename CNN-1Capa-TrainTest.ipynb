{
 "cells": [
  {
   "cell_type": "code",
   "execution_count": null,
   "metadata": {},
   "outputs": [],
   "source": [
    "#Edgar Moises Hernandez-Gonzalez\n",
    "#08/07/19\n",
    "#clasificar EEG de habla imaginada con CNN\n",
    "#1 capa de 32@3x33"
   ]
  },
  {
   "cell_type": "code",
   "execution_count": 1,
   "metadata": {},
   "outputs": [],
   "source": [
    "import pandas as pd\n",
    "from sklearn.model_selection import train_test_split\n",
    "from sklearn.preprocessing import StandardScaler\n",
    "import tensorflow as tf\n",
    "from tensorflow.keras import layers, models\n",
    "import matplotlib.pyplot as plt"
   ]
  },
  {
   "cell_type": "code",
   "execution_count": 2,
   "metadata": {},
   "outputs": [
    {
     "name": "stdout",
     "output_type": "stream",
     "text": [
      "(132, 3072)\n",
      "(132,)\n",
      "132\n"
     ]
    }
   ],
   "source": [
    "datos = pd.read_csv(\"Submuestreo01.csv\", header=None)\n",
    "x = datos.iloc[:, 0:3072].values\n",
    "y = datos.iloc[:, 3072].values\n",
    "\n",
    "num_classes = 6\n",
    "n_samples = len(y)\n",
    "print(x.shape)\n",
    "print(y.shape)\n",
    "print(n_samples)"
   ]
  },
  {
   "cell_type": "code",
   "execution_count": 3,
   "metadata": {},
   "outputs": [],
   "source": [
    "#escalar los datos para que tengan media = 0 y desviacion estandar = 1\n",
    "scaler = StandardScaler().fit(x)\n",
    "x = scaler.transform(x)"
   ]
  },
  {
   "cell_type": "code",
   "execution_count": 4,
   "metadata": {},
   "outputs": [
    {
     "name": "stdout",
     "output_type": "stream",
     "text": [
      "(132, 6, 512, 1)\n"
     ]
    }
   ],
   "source": [
    "#convertir de 2D a 4D\n",
    "x = x.reshape((n_samples, 6, 512, 1))\n",
    "print(x.shape)"
   ]
  },
  {
   "cell_type": "code",
   "execution_count": 5,
   "metadata": {},
   "outputs": [],
   "source": [
    "#dividir en train y test\n",
    "x_train, x_test, y_train, y_test = train_test_split(x, y)"
   ]
  },
  {
   "cell_type": "code",
   "execution_count": 6,
   "metadata": {},
   "outputs": [
    {
     "name": "stdout",
     "output_type": "stream",
     "text": [
      "WARNING:tensorflow:From C:\\Users\\EdgarMoises\\Anaconda3\\lib\\site-packages\\tensorflow\\python\\ops\\resource_variable_ops.py:435: colocate_with (from tensorflow.python.framework.ops) is deprecated and will be removed in a future version.\n",
      "Instructions for updating:\n",
      "Colocations handled automatically by placer.\n",
      "WARNING:tensorflow:From C:\\Users\\EdgarMoises\\Anaconda3\\lib\\site-packages\\tensorflow\\python\\keras\\layers\\core.py:143: calling dropout (from tensorflow.python.ops.nn_ops) with keep_prob is deprecated and will be removed in a future version.\n",
      "Instructions for updating:\n",
      "Please use `rate` instead of `keep_prob`. Rate should be set to `rate = 1 - keep_prob`.\n"
     ]
    }
   ],
   "source": [
    "model = models.Sequential()\n",
    "model.add(layers.Conv2D(32, (3, 33), activation='relu', input_shape=(6, 512, 1)))\n",
    "model.add(layers.MaxPool2D((2, 2)))\n",
    "model.add(layers.Flatten())\n",
    "model.add(layers.Dense(64, activation='relu'))\n",
    "model.add(layers.Dropout(0.2))\n",
    "model.add(layers.Dense(num_classes, activation='softmax'))"
   ]
  },
  {
   "cell_type": "code",
   "execution_count": 7,
   "metadata": {},
   "outputs": [
    {
     "name": "stdout",
     "output_type": "stream",
     "text": [
      "_________________________________________________________________\n",
      "Layer (type)                 Output Shape              Param #   \n",
      "=================================================================\n",
      "conv2d (Conv2D)              (None, 4, 480, 32)        3200      \n",
      "_________________________________________________________________\n",
      "max_pooling2d (MaxPooling2D) (None, 2, 240, 32)        0         \n",
      "_________________________________________________________________\n",
      "flatten (Flatten)            (None, 15360)             0         \n",
      "_________________________________________________________________\n",
      "dense (Dense)                (None, 64)                983104    \n",
      "_________________________________________________________________\n",
      "dropout (Dropout)            (None, 64)                0         \n",
      "_________________________________________________________________\n",
      "dense_1 (Dense)              (None, 6)                 390       \n",
      "=================================================================\n",
      "Total params: 986,694\n",
      "Trainable params: 986,694\n",
      "Non-trainable params: 0\n",
      "_________________________________________________________________\n"
     ]
    }
   ],
   "source": [
    "model.summary()"
   ]
  },
  {
   "cell_type": "code",
   "execution_count": 8,
   "metadata": {},
   "outputs": [],
   "source": [
    "model.compile(optimizer='adam', loss='sparse_categorical_crossentropy', metrics=['accuracy'])"
   ]
  },
  {
   "cell_type": "code",
   "execution_count": 9,
   "metadata": {},
   "outputs": [
    {
     "name": "stdout",
     "output_type": "stream",
     "text": [
      "Train on 99 samples, validate on 33 samples\n",
      "Epoch 1/20\n",
      "99/99 [==============================] - 3s 35ms/sample - loss: 1.8264 - acc: 0.1616 - val_loss: 3.7495 - val_acc: 0.1212\n",
      "Epoch 2/20\n",
      "99/99 [==============================] - 0s 390us/sample - loss: 2.8309 - acc: 0.2525 - val_loss: 4.0020 - val_acc: 0.1515\n",
      "Epoch 3/20\n",
      "99/99 [==============================] - 0s 379us/sample - loss: 3.1046 - acc: 0.1919 - val_loss: 2.7084 - val_acc: 0.1515\n",
      "Epoch 4/20\n",
      "99/99 [==============================] - 0s 386us/sample - loss: 1.9472 - acc: 0.3232 - val_loss: 2.3191 - val_acc: 0.2121\n",
      "Epoch 5/20\n",
      "99/99 [==============================] - 0s 404us/sample - loss: 1.6526 - acc: 0.3434 - val_loss: 1.9679 - val_acc: 0.1515\n",
      "Epoch 6/20\n",
      "99/99 [==============================] - 0s 406us/sample - loss: 1.5133 - acc: 0.4343 - val_loss: 1.9742 - val_acc: 0.2121\n",
      "Epoch 7/20\n",
      "99/99 [==============================] - 0s 376us/sample - loss: 1.4815 - acc: 0.3838 - val_loss: 2.0139 - val_acc: 0.1818\n",
      "Epoch 8/20\n",
      "99/99 [==============================] - 0s 405us/sample - loss: 1.4083 - acc: 0.3434 - val_loss: 1.9699 - val_acc: 0.1818\n",
      "Epoch 9/20\n",
      "99/99 [==============================] - 0s 476us/sample - loss: 1.2454 - acc: 0.4242 - val_loss: 1.9379 - val_acc: 0.2121\n",
      "Epoch 10/20\n",
      "99/99 [==============================] - 0s 493us/sample - loss: 1.1631 - acc: 0.5455 - val_loss: 1.9148 - val_acc: 0.1818\n",
      "Epoch 11/20\n",
      "99/99 [==============================] - 0s 498us/sample - loss: 1.0851 - acc: 0.6667 - val_loss: 1.9162 - val_acc: 0.1515\n",
      "Epoch 12/20\n",
      "99/99 [==============================] - 0s 445us/sample - loss: 1.0037 - acc: 0.7172 - val_loss: 1.9240 - val_acc: 0.1515\n",
      "Epoch 13/20\n",
      "99/99 [==============================] - 0s 490us/sample - loss: 0.9685 - acc: 0.6667 - val_loss: 1.9520 - val_acc: 0.1515\n",
      "Epoch 14/20\n",
      "99/99 [==============================] - 0s 448us/sample - loss: 0.9175 - acc: 0.6768 - val_loss: 2.0009 - val_acc: 0.1818\n",
      "Epoch 15/20\n",
      "99/99 [==============================] - 0s 477us/sample - loss: 0.8278 - acc: 0.7980 - val_loss: 2.0641 - val_acc: 0.1818\n",
      "Epoch 16/20\n",
      "99/99 [==============================] - 0s 550us/sample - loss: 0.7006 - acc: 0.8182 - val_loss: 2.1150 - val_acc: 0.1818\n",
      "Epoch 17/20\n",
      "99/99 [==============================] - 0s 483us/sample - loss: 0.6876 - acc: 0.7778 - val_loss: 2.1255 - val_acc: 0.1515\n",
      "Epoch 18/20\n",
      "99/99 [==============================] - 0s 524us/sample - loss: 0.5710 - acc: 0.8586 - val_loss: 2.1197 - val_acc: 0.1515\n",
      "Epoch 19/20\n",
      "99/99 [==============================] - 0s 457us/sample - loss: 0.5196 - acc: 0.8687 - val_loss: 2.1075 - val_acc: 0.1515\n",
      "Epoch 20/20\n",
      "99/99 [==============================] - 0s 528us/sample - loss: 0.5165 - acc: 0.8485 - val_loss: 2.0987 - val_acc: 0.1212\n"
     ]
    }
   ],
   "source": [
    "history = model.fit(x_train, y_train, epochs = 20, batch_size = 99, validation_data=(x_test, y_test))"
   ]
  },
  {
   "cell_type": "code",
   "execution_count": 10,
   "metadata": {},
   "outputs": [
    {
     "name": "stdout",
     "output_type": "stream",
     "text": [
      "33/33 [==============================] - 0s 739us/sample - loss: 2.0987 - acc: 0.1212\n",
      "Test loss: 2.0986858389594336\n",
      "Test accuracy: 0.121212125\n"
     ]
    }
   ],
   "source": [
    "score = model.evaluate(x_test, y_test)\n",
    "print('Test loss:', score[0])\n",
    "print('Test accuracy:', score[1])"
   ]
  },
  {
   "cell_type": "code",
   "execution_count": 11,
   "metadata": {},
   "outputs": [
    {
     "data": {
      "image/png": "[encoded data removed]",
      "text/plain": [
       "<Figure size 432x288 with 1 Axes>"
      ]
     },
     "metadata": {
      "needs_background": "light"
     },
     "output_type": "display_data"
    }
   ],
   "source": [
    "plt.plot(history.history['acc'])\n",
    "plt.plot(history.history['val_acc'])\n",
    "plt.grid()\n",
    "plt.xlabel('Epocas')\n",
    "plt.ylabel('Accuracy')\n",
    "plt.legend(['train', 'test'])\n",
    "plt.show()"
   ]
  },
  {
   "cell_type": "code",
   "execution_count": 12,
   "metadata": {},
   "outputs": [
    {
     "data": {
      "image/png": "[encoded data removed]",
      "text/plain": [
       "<Figure size 432x288 with 1 Axes>"
      ]
     },
     "metadata": {
      "needs_background": "light"
     },
     "output_type": "display_data"
    }
   ],
   "source": [
    "plt.plot(history.history['loss'])\n",
    "plt.plot(history.history['val_loss'])\n",
    "plt.grid()\n",
    "plt.xlabel('Epocas')\n",
    "plt.ylabel('Entropia Cruzada')\n",
    "plt.legend(['train', 'test'])\n",
    "plt.show()"
   ]
  }
 ],
 "metadata": {
  "kernelspec": {
   "display_name": "Python 3",
   "language": "python",
   "name": "python3"
  },
  "language_info": {
   "codemirror_mode": {
    "name": "ipython",
    "version": 3
   },
   "file_extension": ".py",
   "mimetype": "text/x-python",
   "name": "python",
   "nbconvert_exporter": "python",
   "pygments_lexer": "ipython3",
   "version": "3.7.3"
  }
 },
 "nbformat": 4,
 "nbformat_minor": 2
}
