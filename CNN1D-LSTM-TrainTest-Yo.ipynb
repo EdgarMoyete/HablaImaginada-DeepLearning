{
 "cells": [
  {
   "cell_type": "code",
   "execution_count": null,
   "metadata": {},
   "outputs": [],
   "source": [
    "#Edgar Moises Hernandez-Gonzalez\n",
    "#08/07/19\n",
    "#CNN-1D + LSTM"
   ]
  },
  {
   "cell_type": "code",
   "execution_count": 1,
   "metadata": {},
   "outputs": [],
   "source": [
    "import pandas as pd\n",
    "from sklearn.model_selection import train_test_split\n",
    "from sklearn.preprocessing import StandardScaler\n",
    "from tensorflow.keras import layers, models\n",
    "import matplotlib.pyplot as plt"
   ]
  },
  {
   "cell_type": "code",
   "execution_count": 2,
   "metadata": {},
   "outputs": [
    {
     "name": "stdout",
     "output_type": "stream",
     "text": [
      "(132, 3072)\n",
      "(132,)\n",
      "132\n"
     ]
    }
   ],
   "source": [
    "datos = pd.read_csv(\"Submuestreo01.csv\", header=None)\n",
    "x = datos.iloc[:, 0:3072].values\n",
    "y = datos.iloc[:, 3072].values\n",
    "\n",
    "num_classes = 6\n",
    "n_samples = len(y)\n",
    "print(x.shape)\n",
    "print(y.shape)\n",
    "print(n_samples)"
   ]
  },
  {
   "cell_type": "code",
   "execution_count": 3,
   "metadata": {},
   "outputs": [],
   "source": [
    "#escalar los datos para que tengan media = 0 y desviacion estandar = 1\n",
    "scaler = StandardScaler().fit(x)\n",
    "x = scaler.transform(x)"
   ]
  },
  {
   "cell_type": "code",
   "execution_count": 4,
   "metadata": {},
   "outputs": [
    {
     "name": "stdout",
     "output_type": "stream",
     "text": [
      "(132, 1, 512, 6)\n"
     ]
    }
   ],
   "source": [
    "#convertir de 2D a 4D\n",
    "x = x.reshape((n_samples, 1, 512, 6))\n",
    "print(x.shape)"
   ]
  },
  {
   "cell_type": "code",
   "execution_count": 5,
   "metadata": {},
   "outputs": [],
   "source": [
    "#dividir en train y test\n",
    "x_train, x_test, y_train, y_test = train_test_split(x, y)"
   ]
  },
  {
   "cell_type": "code",
   "execution_count": 6,
   "metadata": {},
   "outputs": [
    {
     "name": "stdout",
     "output_type": "stream",
     "text": [
      "WARNING:tensorflow:From C:\\Users\\EdgarMoises\\Anaconda3\\lib\\site-packages\\tensorflow\\python\\ops\\resource_variable_ops.py:435: colocate_with (from tensorflow.python.framework.ops) is deprecated and will be removed in a future version.\n",
      "Instructions for updating:\n",
      "Colocations handled automatically by placer.\n",
      "WARNING:tensorflow:From C:\\Users\\EdgarMoises\\Anaconda3\\lib\\site-packages\\tensorflow\\python\\keras\\layers\\core.py:143: calling dropout (from tensorflow.python.ops.nn_ops) with keep_prob is deprecated and will be removed in a future version.\n",
      "Instructions for updating:\n",
      "Please use `rate` instead of `keep_prob`. Rate should be set to `rate = 1 - keep_prob`.\n"
     ]
    }
   ],
   "source": [
    "model = models.Sequential()\n",
    "model.add(layers.TimeDistributed(layers.Conv1D(filters=32, kernel_size=3, activation='relu'), input_shape=(None,512,6)))\n",
    "model.add(layers.Dropout(0.2))\n",
    "model.add(layers.TimeDistributed(layers.MaxPooling1D(pool_size=2)))\n",
    "model.add(layers.TimeDistributed(layers.Conv1D(filters=64, kernel_size=3, activation='relu')))\n",
    "model.add(layers.TimeDistributed(layers.MaxPooling1D(pool_size=2)))\n",
    "model.add(layers.TimeDistributed(layers.Flatten()))\n",
    "model.add(layers.LSTM(64))\n",
    "model.add(layers.Dropout(0.2))\n",
    "model.add(layers.Dense(512, activation='relu'))\n",
    "model.add(layers.Dropout(0.2))\n",
    "model.add(layers.Dense(num_classes, activation='softmax'))"
   ]
  },
  {
   "cell_type": "code",
   "execution_count": 7,
   "metadata": {},
   "outputs": [
    {
     "name": "stdout",
     "output_type": "stream",
     "text": [
      "_________________________________________________________________\n",
      "Layer (type)                 Output Shape              Param #   \n",
      "=================================================================\n",
      "time_distributed (TimeDistri (None, None, 510, 32)     608       \n",
      "_________________________________________________________________\n",
      "dropout (Dropout)            (None, None, 510, 32)     0         \n",
      "_________________________________________________________________\n",
      "time_distributed_1 (TimeDist (None, None, 255, 32)     0         \n",
      "_________________________________________________________________\n",
      "time_distributed_2 (TimeDist (None, None, 253, 64)     6208      \n",
      "_________________________________________________________________\n",
      "time_distributed_3 (TimeDist (None, None, 126, 64)     0         \n",
      "_________________________________________________________________\n",
      "time_distributed_4 (TimeDist (None, None, 8064)        0         \n",
      "_________________________________________________________________\n",
      "lstm (LSTM)                  (None, 64)                2081024   \n",
      "_________________________________________________________________\n",
      "dropout_1 (Dropout)          (None, 64)                0         \n",
      "_________________________________________________________________\n",
      "dense (Dense)                (None, 512)               33280     \n",
      "_________________________________________________________________\n",
      "dropout_2 (Dropout)          (None, 512)               0         \n",
      "_________________________________________________________________\n",
      "dense_1 (Dense)              (None, 6)                 3078      \n",
      "=================================================================\n",
      "Total params: 2,124,198\n",
      "Trainable params: 2,124,198\n",
      "Non-trainable params: 0\n",
      "_________________________________________________________________\n"
     ]
    }
   ],
   "source": [
    "model.summary()"
   ]
  },
  {
   "cell_type": "code",
   "execution_count": 8,
   "metadata": {},
   "outputs": [],
   "source": [
    "model.compile(optimizer='adam', loss='sparse_categorical_crossentropy', metrics=['accuracy'])"
   ]
  },
  {
   "cell_type": "code",
   "execution_count": 9,
   "metadata": {},
   "outputs": [
    {
     "name": "stdout",
     "output_type": "stream",
     "text": [
      "Train on 99 samples, validate on 33 samples\n",
      "Epoch 1/20\n",
      "99/99 [==============================] - 3s 27ms/sample - loss: 1.7781 - acc: 0.2323 - val_loss: 1.8231 - val_acc: 0.1515\n",
      "Epoch 2/20\n",
      "99/99 [==============================] - 0s 413us/sample - loss: 1.7512 - acc: 0.2121 - val_loss: 1.8184 - val_acc: 0.1515\n",
      "Epoch 3/20\n",
      "99/99 [==============================] - 0s 413us/sample - loss: 1.7254 - acc: 0.2727 - val_loss: 1.8069 - val_acc: 0.1515\n",
      "Epoch 4/20\n",
      "99/99 [==============================] - 0s 443us/sample - loss: 1.6559 - acc: 0.3232 - val_loss: 1.8181 - val_acc: 0.2121\n",
      "Epoch 5/20\n",
      "99/99 [==============================] - 0s 474us/sample - loss: 1.6351 - acc: 0.3636 - val_loss: 1.8580 - val_acc: 0.1515\n",
      "Epoch 6/20\n",
      "99/99 [==============================] - 0s 413us/sample - loss: 1.5564 - acc: 0.3737 - val_loss: 1.8316 - val_acc: 0.1818\n",
      "Epoch 7/20\n",
      "99/99 [==============================] - 0s 413us/sample - loss: 1.4807 - acc: 0.5455 - val_loss: 1.8492 - val_acc: 0.1818\n",
      "Epoch 8/20\n",
      "99/99 [==============================] - 0s 413us/sample - loss: 1.4145 - acc: 0.5960 - val_loss: 1.8691 - val_acc: 0.2121\n",
      "Epoch 9/20\n",
      "99/99 [==============================] - 0s 403us/sample - loss: 1.3386 - acc: 0.5657 - val_loss: 1.8815 - val_acc: 0.1818\n",
      "Epoch 10/20\n",
      "99/99 [==============================] - 0s 403us/sample - loss: 1.2549 - acc: 0.5859 - val_loss: 1.8972 - val_acc: 0.2121\n",
      "Epoch 11/20\n",
      "99/99 [==============================] - 0s 443us/sample - loss: 1.1636 - acc: 0.7273 - val_loss: 1.9219 - val_acc: 0.1515\n",
      "Epoch 12/20\n",
      "99/99 [==============================] - 0s 453us/sample - loss: 1.1008 - acc: 0.7374 - val_loss: 1.9243 - val_acc: 0.2424\n",
      "Epoch 13/20\n",
      "99/99 [==============================] - 0s 402us/sample - loss: 0.9852 - acc: 0.8283 - val_loss: 1.9800 - val_acc: 0.1818\n",
      "Epoch 14/20\n",
      "99/99 [==============================] - 0s 413us/sample - loss: 0.9020 - acc: 0.8586 - val_loss: 2.0606 - val_acc: 0.1818\n",
      "Epoch 15/20\n",
      "99/99 [==============================] - 0s 433us/sample - loss: 0.8022 - acc: 0.8788 - val_loss: 2.0967 - val_acc: 0.1515\n",
      "Epoch 16/20\n",
      "99/99 [==============================] - 0s 413us/sample - loss: 0.7071 - acc: 0.9293 - val_loss: 2.1174 - val_acc: 0.1515\n",
      "Epoch 17/20\n",
      "99/99 [==============================] - 0s 413us/sample - loss: 0.6319 - acc: 0.9394 - val_loss: 2.1843 - val_acc: 0.1515\n",
      "Epoch 18/20\n",
      "99/99 [==============================] - 0s 423us/sample - loss: 0.5408 - acc: 0.9697 - val_loss: 2.2328 - val_acc: 0.1515\n",
      "Epoch 19/20\n",
      "99/99 [==============================] - 0s 413us/sample - loss: 0.4593 - acc: 0.9798 - val_loss: 2.2277 - val_acc: 0.1818\n",
      "Epoch 20/20\n",
      "99/99 [==============================] - 0s 413us/sample - loss: 0.4057 - acc: 0.9697 - val_loss: 2.2602 - val_acc: 0.1818\n"
     ]
    }
   ],
   "source": [
    "history = model.fit(x_train, y_train, epochs = 20, batch_size = 99, validation_data=(x_test, y_test))"
   ]
  },
  {
   "cell_type": "code",
   "execution_count": 10,
   "metadata": {},
   "outputs": [
    {
     "name": "stdout",
     "output_type": "stream",
     "text": [
      "33/33 [==============================] - 0s 4ms/sample - loss: 2.2602 - acc: 0.1818\n",
      "Test loss: 2.260233973011826\n",
      "Test accuracy: 0.18181819\n"
     ]
    }
   ],
   "source": [
    "score = model.evaluate(x_test, y_test)\n",
    "print('Test loss:', score[0])\n",
    "print('Test accuracy:', score[1])"
   ]
  },
  {
   "cell_type": "code",
   "execution_count": 11,
   "metadata": {},
   "outputs": [
    {
     "data": {
      "image/png": "[encoded data removed]",
      "text/plain": [
       "<Figure size 432x288 with 1 Axes>"
      ]
     },
     "metadata": {
      "needs_background": "light"
     },
     "output_type": "display_data"
    }
   ],
   "source": [
    "plt.plot(history.history['acc'])\n",
    "plt.plot(history.history['val_acc'])\n",
    "plt.grid()\n",
    "plt.xlabel('Epocas')\n",
    "plt.ylabel('Accuracy')\n",
    "plt.legend(['train', 'test'])\n",
    "plt.show()"
   ]
  },
  {
   "cell_type": "code",
   "execution_count": 12,
   "metadata": {},
   "outputs": [
    {
     "data": {
      "image/png": "[encoded data removed]",
      "text/plain": [
       "<Figure size 432x288 with 1 Axes>"
      ]
     },
     "metadata": {
      "needs_background": "light"
     },
     "output_type": "display_data"
    }
   ],
   "source": [
    "plt.plot(history.history['loss'])\n",
    "plt.plot(history.history['val_loss'])\n",
    "plt.grid()\n",
    "plt.xlabel('Epocas')\n",
    "plt.ylabel('Entropia Cruzada')\n",
    "plt.legend(['train', 'test'])\n",
    "plt.show()"
   ]
  }
 ],
 "metadata": {
  "kernelspec": {
   "display_name": "Python 3",
   "language": "python",
   "name": "python3"
  },
  "language_info": {
   "codemirror_mode": {
    "name": "ipython",
    "version": 3
   },
   "file_extension": ".py",
   "mimetype": "text/x-python",
   "name": "python",
   "nbconvert_exporter": "python",
   "pygments_lexer": "ipython3",
   "version": "3.7.3"
  }
 },
 "nbformat": 4,
 "nbformat_minor": 2
}
