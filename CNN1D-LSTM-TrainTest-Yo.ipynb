{
 "cells": [
  {
   "cell_type": "code",
   "execution_count": null,
   "metadata": {},
   "outputs": [],
   "source": [
    "#Edgar Moises Hernandez-Gonzalez\n",
    "#08/07/19-16/12/19\n",
    "#Clasificar habla imaginada en EEG con CNN-1D + LSTM"
   ]
  },
  {
   "cell_type": "code",
   "execution_count": 1,
   "metadata": {},
   "outputs": [],
   "source": [
    "import numpy as np\n",
    "import pandas as pd\n",
    "import matplotlib.pyplot as plt\n",
    "from sklearn.model_selection import train_test_split\n",
    "from sklearn.preprocessing import StandardScaler\n",
    "from tensorflow.keras.models import Sequential\n",
    "from tensorflow.keras.layers import TimeDistributed, Conv1D, MaxPool1D, Flatten, Dropout, LSTM, Dense"
   ]
  },
  {
   "cell_type": "code",
   "execution_count": 2,
   "metadata": {},
   "outputs": [],
   "source": [
    "datos = pd.read_csv(\"Submuestreo01.csv\", header=None)\n",
    "x = datos.iloc[:, 0:3072]\n",
    "y = datos.iloc[:, 3072]"
   ]
  },
  {
   "cell_type": "code",
   "execution_count": 3,
   "metadata": {},
   "outputs": [
    {
     "name": "stdout",
     "output_type": "stream",
     "text": [
      "(132, 3072)\n",
      "(132,)\n"
     ]
    }
   ],
   "source": [
    "print(x.shape)\n",
    "print(y.shape)"
   ]
  },
  {
   "cell_type": "code",
   "execution_count": 4,
   "metadata": {},
   "outputs": [
    {
     "name": "stdout",
     "output_type": "stream",
     "text": [
      "n_samples: 132\n"
     ]
    }
   ],
   "source": [
    "n_samples = len(y)\n",
    "print(\"n_samples:\", n_samples)"
   ]
  },
  {
   "cell_type": "code",
   "execution_count": 5,
   "metadata": {},
   "outputs": [
    {
     "name": "stdout",
     "output_type": "stream",
     "text": [
      "n_classes: 6\n"
     ]
    }
   ],
   "source": [
    "n_classes = len(np.unique(y))\n",
    "print(\"n_classes:\", n_classes)"
   ]
  },
  {
   "cell_type": "code",
   "execution_count": 6,
   "metadata": {},
   "outputs": [],
   "source": [
    "#escalar los datos para que tengan media = 0 y desviacion estandar = 1\n",
    "x = StandardScaler().fit_transform(x)"
   ]
  },
  {
   "cell_type": "code",
   "execution_count": 7,
   "metadata": {},
   "outputs": [
    {
     "name": "stdout",
     "output_type": "stream",
     "text": [
      "(132, 1, 6, 512)\n"
     ]
    }
   ],
   "source": [
    "#convertir de 2D a 4D\n",
    "x = x.reshape((n_samples, 1, 6, 512))\n",
    "print(x.shape)"
   ]
  },
  {
   "cell_type": "code",
   "execution_count": 8,
   "metadata": {},
   "outputs": [
    {
     "name": "stdout",
     "output_type": "stream",
     "text": [
      "(132, 1, 512, 6)\n"
     ]
    }
   ],
   "source": [
    "x = np.transpose(x, (0,1,3,2))\n",
    "\n",
    "print(x.shape)"
   ]
  },
  {
   "cell_type": "code",
   "execution_count": 9,
   "metadata": {},
   "outputs": [],
   "source": [
    "#dividir en train y test\n",
    "x_train, x_test, y_train, y_test = train_test_split(x, y)"
   ]
  },
  {
   "cell_type": "code",
   "execution_count": 31,
   "metadata": {},
   "outputs": [],
   "source": [
    "model = Sequential()\n",
    "model.add(TimeDistributed(Conv1D(32, 7, activation='relu'), input_shape=(None,512,6)))\n",
    "model.add(TimeDistributed(Conv1D(64, 7, activation='relu')))\n",
    "model.add(TimeDistributed(Flatten()))\n",
    "model.add(LSTM(16))\n",
    "model.add(Dropout(0.2))\n",
    "model.add(Dense(64, activation='relu'))\n",
    "model.add(Dropout(0.2))\n",
    "model.add(Dense(n_classes, activation='softmax'))"
   ]
  },
  {
   "cell_type": "code",
   "execution_count": 32,
   "metadata": {},
   "outputs": [],
   "source": [
    "model.compile(optimizer='adam', loss='sparse_categorical_crossentropy', metrics=['accuracy'])"
   ]
  },
  {
   "cell_type": "code",
   "execution_count": 33,
   "metadata": {},
   "outputs": [
    {
     "name": "stdout",
     "output_type": "stream",
     "text": [
      "_________________________________________________________________\n",
      "Layer (type)                 Output Shape              Param #   \n",
      "=================================================================\n",
      "time_distributed_11 (TimeDis (None, None, 506, 32)     1376      \n",
      "_________________________________________________________________\n",
      "time_distributed_12 (TimeDis (None, None, 500, 64)     14400     \n",
      "_________________________________________________________________\n",
      "time_distributed_13 (TimeDis (None, None, 32000)       0         \n",
      "_________________________________________________________________\n",
      "lstm_3 (LSTM)                (None, 16)                2049088   \n",
      "_________________________________________________________________\n",
      "dropout_6 (Dropout)          (None, 16)                0         \n",
      "_________________________________________________________________\n",
      "dense_5 (Dense)              (None, 64)                1088      \n",
      "_________________________________________________________________\n",
      "dropout_7 (Dropout)          (None, 64)                0         \n",
      "_________________________________________________________________\n",
      "dense_6 (Dense)              (None, 6)                 390       \n",
      "=================================================================\n",
      "Total params: 2,066,342\n",
      "Trainable params: 2,066,342\n",
      "Non-trainable params: 0\n",
      "_________________________________________________________________\n"
     ]
    }
   ],
   "source": [
    "model.summary()"
   ]
  },
  {
   "cell_type": "code",
   "execution_count": 34,
   "metadata": {},
   "outputs": [
    {
     "name": "stdout",
     "output_type": "stream",
     "text": [
      "Train on 99 samples, validate on 33 samples\n",
      "Epoch 1/20\n",
      "99/99 [==============================] - 1s 11ms/sample - loss: 1.7989 - acc: 0.1717 - val_loss: 1.7821 - val_acc: 0.1212\n",
      "Epoch 2/20\n",
      "99/99 [==============================] - 0s 722us/sample - loss: 1.7901 - acc: 0.2121 - val_loss: 1.7821 - val_acc: 0.2121\n",
      "Epoch 3/20\n",
      "99/99 [==============================] - 0s 683us/sample - loss: 1.7321 - acc: 0.2929 - val_loss: 1.8035 - val_acc: 0.1515\n",
      "Epoch 4/20\n",
      "99/99 [==============================] - 0s 697us/sample - loss: 1.6923 - acc: 0.3636 - val_loss: 1.7795 - val_acc: 0.1818\n",
      "Epoch 5/20\n",
      "99/99 [==============================] - 0s 701us/sample - loss: 1.5776 - acc: 0.4141 - val_loss: 1.8071 - val_acc: 0.2121\n",
      "Epoch 6/20\n",
      "99/99 [==============================] - 0s 675us/sample - loss: 1.5632 - acc: 0.4242 - val_loss: 1.8098 - val_acc: 0.2121\n",
      "Epoch 7/20\n",
      "99/99 [==============================] - 0s 685us/sample - loss: 1.5311 - acc: 0.3636 - val_loss: 1.8005 - val_acc: 0.2121\n",
      "Epoch 8/20\n",
      "99/99 [==============================] - 0s 690us/sample - loss: 1.4405 - acc: 0.5051 - val_loss: 1.8011 - val_acc: 0.2424\n",
      "Epoch 9/20\n",
      "99/99 [==============================] - 0s 697us/sample - loss: 1.4651 - acc: 0.4646 - val_loss: 1.8281 - val_acc: 0.1818\n",
      "Epoch 10/20\n",
      "99/99 [==============================] - 0s 683us/sample - loss: 1.4002 - acc: 0.5556 - val_loss: 1.8235 - val_acc: 0.2424\n",
      "Epoch 11/20\n",
      "99/99 [==============================] - 0s 691us/sample - loss: 1.3735 - acc: 0.5253 - val_loss: 1.8109 - val_acc: 0.2121\n",
      "Epoch 12/20\n",
      "99/99 [==============================] - 0s 699us/sample - loss: 1.2852 - acc: 0.6263 - val_loss: 1.8003 - val_acc: 0.2121\n",
      "Epoch 13/20\n",
      "99/99 [==============================] - 0s 701us/sample - loss: 1.2589 - acc: 0.6566 - val_loss: 1.8102 - val_acc: 0.2121\n",
      "Epoch 14/20\n",
      "99/99 [==============================] - 0s 675us/sample - loss: 1.2388 - acc: 0.6970 - val_loss: 1.8401 - val_acc: 0.2121\n",
      "Epoch 15/20\n",
      "99/99 [==============================] - 0s 675us/sample - loss: 1.1885 - acc: 0.6465 - val_loss: 1.8483 - val_acc: 0.1818\n",
      "Epoch 16/20\n",
      "99/99 [==============================] - 0s 698us/sample - loss: 1.1264 - acc: 0.6566 - val_loss: 1.8587 - val_acc: 0.1515\n",
      "Epoch 17/20\n",
      "99/99 [==============================] - 0s 720us/sample - loss: 1.1369 - acc: 0.6970 - val_loss: 1.8713 - val_acc: 0.1818\n",
      "Epoch 18/20\n",
      "99/99 [==============================] - 0s 766us/sample - loss: 1.0789 - acc: 0.7071 - val_loss: 1.8649 - val_acc: 0.1515\n",
      "Epoch 19/20\n",
      "99/99 [==============================] - 0s 675us/sample - loss: 1.0259 - acc: 0.7071 - val_loss: 1.8443 - val_acc: 0.2424\n",
      "Epoch 20/20\n",
      "99/99 [==============================] - 0s 685us/sample - loss: 1.0671 - acc: 0.6869 - val_loss: 1.8459 - val_acc: 0.2121\n"
     ]
    }
   ],
   "source": [
    "history = model.fit(x_train, y_train, epochs = 20, batch_size = 64, validation_data=(x_test, y_test))"
   ]
  },
  {
   "cell_type": "code",
   "execution_count": 35,
   "metadata": {},
   "outputs": [
    {
     "name": "stdout",
     "output_type": "stream",
     "text": [
      "33/33 [==============================] - 0s 335us/sample - loss: 1.8459 - acc: 0.2121\n",
      "Test loss: 1.8458885965925274\n",
      "Test accuracy: 0.21212122\n"
     ]
    }
   ],
   "source": [
    "score = model.evaluate(x_test, y_test)\n",
    "print('Test loss:', score[0])\n",
    "print('Test accuracy:', score[1])"
   ]
  },
  {
   "cell_type": "code",
   "execution_count": 36,
   "metadata": {},
   "outputs": [
    {
     "data": {
      "image/png": "[encoded data removed]",
      "text/plain": [
       "<Figure size 432x288 with 1 Axes>"
      ]
     },
     "metadata": {
      "needs_background": "light"
     },
     "output_type": "display_data"
    }
   ],
   "source": [
    "plt.plot(history.history['acc'])\n",
    "plt.plot(history.history['val_acc'])\n",
    "plt.grid()\n",
    "plt.xlabel('Epocas')\n",
    "plt.ylabel('Accuracy')\n",
    "plt.legend(['train', 'test'])\n",
    "plt.show()"
   ]
  },
  {
   "cell_type": "code",
   "execution_count": 37,
   "metadata": {},
   "outputs": [
    {
     "data": {
      "image/png": "[encoded data removed]",
      "text/plain": [
       "<Figure size 432x288 with 1 Axes>"
      ]
     },
     "metadata": {
      "needs_background": "light"
     },
     "output_type": "display_data"
    }
   ],
   "source": [
    "plt.plot(history.history['loss'])\n",
    "plt.plot(history.history['val_loss'])\n",
    "plt.grid()\n",
    "plt.xlabel('Epocas')\n",
    "plt.ylabel('Entropia Cruzada')\n",
    "plt.legend(['train', 'test'])\n",
    "plt.show()"
   ]
  }
 ],
 "metadata": {
  "kernelspec": {
   "display_name": "Python 3",
   "language": "python",
   "name": "python3"
  },
  "language_info": {
   "codemirror_mode": {
    "name": "ipython",
    "version": 3
   },
   "file_extension": ".py",
   "mimetype": "text/x-python",
   "name": "python",
   "nbconvert_exporter": "python",
   "pygments_lexer": "ipython3",
   "version": "3.7.3"
  }
 },
 "nbformat": 4,
 "nbformat_minor": 2
}
