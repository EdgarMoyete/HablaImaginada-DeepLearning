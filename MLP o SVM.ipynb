{
 "cells": [
  {
   "cell_type": "code",
   "execution_count": 1,
   "metadata": {},
   "outputs": [],
   "source": [
    "#Edgar Moises Hernandez-Gonzalez\n",
    "#22/10/19-16/12/19\n",
    "#MLP para clasificar habla imaginada en EEG sin parpadeo\n",
    "#los datos estan filtrados a 32Hz y submuestreados a 128Hz"
   ]
  },
  {
   "cell_type": "code",
   "execution_count": 1,
   "metadata": {},
   "outputs": [],
   "source": [
    "import pandas as pd\n",
    "from sklearn.model_selection import StratifiedKFold\n",
    "from sklearn.preprocessing import StandardScaler\n",
    "from sklearn.neural_network import MLPClassifier\n",
    "#from sklearn.svm import SVC #funciono mejor que LinearSVC"
   ]
  },
  {
   "cell_type": "code",
   "execution_count": 2,
   "metadata": {},
   "outputs": [],
   "source": [
    "datos = pd.read_csv(\"Submuestreo01.csv\", header=None)\n",
    "x = datos.iloc[:, 0:3072]\n",
    "y = datos.iloc[:, 3072]"
   ]
  },
  {
   "cell_type": "code",
   "execution_count": 3,
   "metadata": {},
   "outputs": [
    {
     "name": "stdout",
     "output_type": "stream",
     "text": [
      "(132, 3072)\n",
      "(132,)\n"
     ]
    }
   ],
   "source": [
    "print(x.shape)\n",
    "print(y.shape)"
   ]
  },
  {
   "cell_type": "code",
   "execution_count": 4,
   "metadata": {},
   "outputs": [],
   "source": [
    "#escalar los datos para que tengan media = 0 y desviacion estandar = 1\n",
    "x = StandardScaler().fit_transform(x)"
   ]
  },
  {
   "cell_type": "code",
   "execution_count": 5,
   "metadata": {},
   "outputs": [],
   "source": [
    "skf = StratifiedKFold(n_splits = 5)"
   ]
  },
  {
   "cell_type": "code",
   "execution_count": 6,
   "metadata": {},
   "outputs": [],
   "source": [
    "#modelo\n",
    "clf = MLPClassifier()\n",
    "#clf = SVC()"
   ]
  },
  {
   "cell_type": "code",
   "execution_count": 7,
   "metadata": {},
   "outputs": [
    {
     "name": "stdout",
     "output_type": "stream",
     "text": [
      "\n",
      "Iteracion: 1\n",
      "Clasificacion: 0.1724137931034483\n",
      "\n",
      "Iteracion: 2\n",
      "Clasificacion: 0.2222222222222222\n",
      "\n",
      "Iteracion: 3\n",
      "Clasificacion: 0.23076923076923078\n",
      "\n",
      "Iteracion: 4\n",
      "Clasificacion: 0.16\n",
      "\n",
      "Iteracion: 5\n",
      "Clasificacion: 0.16\n",
      "\n",
      "Promedio: 0.18908104921898028\n"
     ]
    }
   ],
   "source": [
    "i = 0\n",
    "suma = 0\n",
    "for iTrain, jTest in skf.split(x, y):\n",
    "    print(\"\\nIteracion:\", i + 1)\n",
    "    x_train, x_test = x[iTrain], x[jTest]\n",
    "    y_train, y_test = y[iTrain], y[jTest]\n",
    "    clf.fit(x_train, y_train)\n",
    "    accuracy = clf.score(x_test, y_test)\n",
    "    print(\"Clasificacion:\", accuracy)\n",
    "    suma += accuracy\n",
    "    i += 1\n",
    "print(\"\\nPromedio:\", suma/i)"
   ]
  }
 ],
 "metadata": {
  "kernelspec": {
   "display_name": "Python 3",
   "language": "python",
   "name": "python3"
  },
  "language_info": {
   "codemirror_mode": {
    "name": "ipython",
    "version": 3
   },
   "file_extension": ".py",
   "mimetype": "text/x-python",
   "name": "python",
   "nbconvert_exporter": "python",
   "pygments_lexer": "ipython3",
   "version": "3.7.3"
  }
 },
 "nbformat": 4,
 "nbformat_minor": 2
}
