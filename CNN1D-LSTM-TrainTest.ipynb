{
 "cells": [
  {
   "cell_type": "code",
   "execution_count": 1,
   "metadata": {},
   "outputs": [],
   "source": [
    "#Edgar Moises Hernandez-Gonzalez\n",
    "#08/07/19-16/12/19\n",
    "#Clasificar habla imaginada en EEG con CNN-1D + LSTM\n",
    "#Esta es la arquitectura final"
   ]
  },
  {
   "cell_type": "code",
   "execution_count": 1,
   "metadata": {},
   "outputs": [],
   "source": [
    "import numpy as np\n",
    "import pandas as pd\n",
    "import matplotlib.pyplot as plt\n",
    "from sklearn.model_selection import train_test_split\n",
    "from sklearn.preprocessing import StandardScaler\n",
    "from tensorflow.keras.models import Sequential\n",
    "from tensorflow.keras.layers import TimeDistributed, Conv1D, MaxPool1D, Dropout, Flatten, LSTM, Dense\n",
    "from sklearn.metrics import confusion_matrix, classification_report"
   ]
  },
  {
   "cell_type": "code",
   "execution_count": 2,
   "metadata": {},
   "outputs": [],
   "source": [
    "datos = pd.read_csv(\"Submuestreo01.csv\", header=None)\n",
    "x = datos.iloc[:, 0:3072]\n",
    "y = datos.iloc[:, 3072]"
   ]
  },
  {
   "cell_type": "code",
   "execution_count": 3,
   "metadata": {},
   "outputs": [
    {
     "name": "stdout",
     "output_type": "stream",
     "text": [
      "(132, 3072)\n",
      "(132,)\n"
     ]
    }
   ],
   "source": [
    "print(x.shape)\n",
    "print(y.shape)"
   ]
  },
  {
   "cell_type": "code",
   "execution_count": 4,
   "metadata": {},
   "outputs": [
    {
     "name": "stdout",
     "output_type": "stream",
     "text": [
      "n_samples: 132\n"
     ]
    }
   ],
   "source": [
    "n_samples = len(y)\n",
    "print(\"n_samples:\", n_samples)"
   ]
  },
  {
   "cell_type": "code",
   "execution_count": 5,
   "metadata": {},
   "outputs": [
    {
     "name": "stdout",
     "output_type": "stream",
     "text": [
      "n_classes: 6\n"
     ]
    }
   ],
   "source": [
    "n_classes = len(np.unique(y))\n",
    "print(\"n_classes:\", n_classes)"
   ]
  },
  {
   "cell_type": "code",
   "execution_count": 6,
   "metadata": {},
   "outputs": [],
   "source": [
    "#escalar los datos para que tengan media = 0 y desviacion estandar = 1\n",
    "x = StandardScaler().fit_transform(x)"
   ]
  },
  {
   "cell_type": "code",
   "execution_count": 7,
   "metadata": {},
   "outputs": [
    {
     "name": "stdout",
     "output_type": "stream",
     "text": [
      "(132, 1, 6, 512)\n"
     ]
    }
   ],
   "source": [
    "#convertir de 2D a 4D\n",
    "x = x.reshape((n_samples, 1, 6, 512))\n",
    "print(x.shape)"
   ]
  },
  {
   "cell_type": "code",
   "execution_count": 8,
   "metadata": {},
   "outputs": [
    {
     "name": "stdout",
     "output_type": "stream",
     "text": [
      "(132, 1, 512, 6)\n"
     ]
    }
   ],
   "source": [
    "x = np.transpose(x, (0,1,3,2))\n",
    "\n",
    "print(x.shape)"
   ]
  },
  {
   "cell_type": "code",
   "execution_count": 9,
   "metadata": {},
   "outputs": [],
   "source": [
    "#dividir en train y test\n",
    "x_train, x_test, y_train, y_test = train_test_split(x, y)"
   ]
  },
  {
   "cell_type": "code",
   "execution_count": 10,
   "metadata": {},
   "outputs": [
    {
     "name": "stdout",
     "output_type": "stream",
     "text": [
      "WARNING:tensorflow:From C:\\Users\\EdgarMoises\\Anaconda3\\lib\\site-packages\\tensorflow\\python\\ops\\resource_variable_ops.py:435: colocate_with (from tensorflow.python.framework.ops) is deprecated and will be removed in a future version.\n",
      "Instructions for updating:\n",
      "Colocations handled automatically by placer.\n",
      "WARNING:tensorflow:From C:\\Users\\EdgarMoises\\Anaconda3\\lib\\site-packages\\tensorflow\\python\\keras\\layers\\core.py:143: calling dropout (from tensorflow.python.ops.nn_ops) with keep_prob is deprecated and will be removed in a future version.\n",
      "Instructions for updating:\n",
      "Please use `rate` instead of `keep_prob`. Rate should be set to `rate = 1 - keep_prob`.\n"
     ]
    }
   ],
   "source": [
    "model = Sequential()\n",
    "model.add(TimeDistributed(Conv1D(64, 3, activation='relu'), input_shape=(None,512,6)))\n",
    "model.add(TimeDistributed(Conv1D(64, 3, activation='relu')))\n",
    "model.add(TimeDistributed(Dropout(0.5)))\n",
    "model.add(TimeDistributed(MaxPool1D(2)))\n",
    "model.add(TimeDistributed(Flatten()))\n",
    "model.add(LSTM(100))\n",
    "model.add(Dropout(0.5))\n",
    "model.add(Dense(100, activation='relu'))\n",
    "model.add(Dense(n_classes, activation='softmax'))"
   ]
  },
  {
   "cell_type": "code",
   "execution_count": 11,
   "metadata": {},
   "outputs": [],
   "source": [
    "model.compile(optimizer='adam', loss='sparse_categorical_crossentropy', metrics=['accuracy'])"
   ]
  },
  {
   "cell_type": "code",
   "execution_count": 12,
   "metadata": {},
   "outputs": [
    {
     "name": "stdout",
     "output_type": "stream",
     "text": [
      "_________________________________________________________________\n",
      "Layer (type)                 Output Shape              Param #   \n",
      "=================================================================\n",
      "time_distributed (TimeDistri (None, None, 510, 64)     1216      \n",
      "_________________________________________________________________\n",
      "time_distributed_1 (TimeDist (None, None, 508, 64)     12352     \n",
      "_________________________________________________________________\n",
      "time_distributed_2 (TimeDist (None, None, 508, 64)     0         \n",
      "_________________________________________________________________\n",
      "time_distributed_3 (TimeDist (None, None, 254, 64)     0         \n",
      "_________________________________________________________________\n",
      "time_distributed_4 (TimeDist (None, None, 16256)       0         \n",
      "_________________________________________________________________\n",
      "lstm (LSTM)                  (None, 100)               6542800   \n",
      "_________________________________________________________________\n",
      "dropout_1 (Dropout)          (None, 100)               0         \n",
      "_________________________________________________________________\n",
      "dense (Dense)                (None, 100)               10100     \n",
      "_________________________________________________________________\n",
      "dense_1 (Dense)              (None, 6)                 606       \n",
      "=================================================================\n",
      "Total params: 6,567,074\n",
      "Trainable params: 6,567,074\n",
      "Non-trainable params: 0\n",
      "_________________________________________________________________\n"
     ]
    }
   ],
   "source": [
    "model.summary()"
   ]
  },
  {
   "cell_type": "code",
   "execution_count": 13,
   "metadata": {},
   "outputs": [
    {
     "name": "stdout",
     "output_type": "stream",
     "text": [
      "Train on 99 samples, validate on 33 samples\n",
      "Epoch 1/20\n",
      "99/99 [==============================] - 3s 28ms/sample - loss: 1.7830 - acc: 0.2121 - val_loss: 1.8139 - val_acc: 0.1818\n",
      "Epoch 2/20\n",
      "99/99 [==============================] - 0s 1ms/sample - loss: 1.7617 - acc: 0.2626 - val_loss: 1.7813 - val_acc: 0.1212\n",
      "Epoch 3/20\n",
      "99/99 [==============================] - 0s 1ms/sample - loss: 1.6908 - acc: 0.3434 - val_loss: 1.7859 - val_acc: 0.1212\n",
      "Epoch 4/20\n",
      "99/99 [==============================] - 0s 1ms/sample - loss: 1.6220 - acc: 0.3636 - val_loss: 1.8434 - val_acc: 0.1212\n",
      "Epoch 5/20\n",
      "99/99 [==============================] - 0s 1ms/sample - loss: 1.5442 - acc: 0.3737 - val_loss: 1.8421 - val_acc: 0.0909\n",
      "Epoch 6/20\n",
      "99/99 [==============================] - 0s 1ms/sample - loss: 1.4666 - acc: 0.5354 - val_loss: 1.8513 - val_acc: 0.0909\n",
      "Epoch 7/20\n",
      "99/99 [==============================] - 0s 1ms/sample - loss: 1.3437 - acc: 0.5960 - val_loss: 1.8210 - val_acc: 0.1515\n",
      "Epoch 8/20\n",
      "99/99 [==============================] - 0s 1ms/sample - loss: 1.2274 - acc: 0.6364 - val_loss: 1.8418 - val_acc: 0.1515\n",
      "Epoch 9/20\n",
      "99/99 [==============================] - 0s 1ms/sample - loss: 1.0588 - acc: 0.7475 - val_loss: 1.8805 - val_acc: 0.2121\n",
      "Epoch 10/20\n",
      "99/99 [==============================] - 0s 1ms/sample - loss: 1.0113 - acc: 0.8283 - val_loss: 1.9078 - val_acc: 0.1818\n",
      "Epoch 11/20\n",
      "99/99 [==============================] - 0s 1ms/sample - loss: 0.9887 - acc: 0.7273 - val_loss: 1.8963 - val_acc: 0.2121\n",
      "Epoch 12/20\n",
      "99/99 [==============================] - 0s 1ms/sample - loss: 0.8673 - acc: 0.8586 - val_loss: 1.9166 - val_acc: 0.2121\n",
      "Epoch 13/20\n",
      "99/99 [==============================] - 0s 1ms/sample - loss: 0.7728 - acc: 0.8384 - val_loss: 1.9491 - val_acc: 0.1212\n",
      "Epoch 14/20\n",
      "99/99 [==============================] - 0s 1ms/sample - loss: 0.6706 - acc: 0.8990 - val_loss: 1.9968 - val_acc: 0.2121\n",
      "Epoch 15/20\n",
      "99/99 [==============================] - 0s 2ms/sample - loss: 0.6429 - acc: 0.8990 - val_loss: 2.0349 - val_acc: 0.1818\n",
      "Epoch 16/20\n",
      "99/99 [==============================] - 0s 1ms/sample - loss: 0.5795 - acc: 0.9192 - val_loss: 2.0193 - val_acc: 0.1818\n",
      "Epoch 17/20\n",
      "99/99 [==============================] - 0s 1ms/sample - loss: 0.5349 - acc: 0.9192 - val_loss: 2.0197 - val_acc: 0.2121\n",
      "Epoch 18/20\n",
      "99/99 [==============================] - 0s 1ms/sample - loss: 0.4796 - acc: 0.9495 - val_loss: 2.0771 - val_acc: 0.1515\n",
      "Epoch 19/20\n",
      "99/99 [==============================] - 0s 1ms/sample - loss: 0.4553 - acc: 0.9495 - val_loss: 2.1618 - val_acc: 0.1818\n",
      "Epoch 20/20\n",
      "99/99 [==============================] - 0s 1ms/sample - loss: 0.3579 - acc: 0.9798 - val_loss: 2.2634 - val_acc: 0.2424\n"
     ]
    }
   ],
   "source": [
    "history = model.fit(x_train, y_train, epochs = 20, batch_size = 64, validation_data=(x_test, y_test))"
   ]
  },
  {
   "cell_type": "code",
   "execution_count": 14,
   "metadata": {},
   "outputs": [
    {
     "name": "stdout",
     "output_type": "stream",
     "text": [
      "33/33 [==============================] - 0s 848us/sample - loss: 2.2634 - acc: 0.2424\n",
      "Test loss: 2.263412468361132\n",
      "Test accuracy: 0.24242425\n"
     ]
    }
   ],
   "source": [
    "score = model.evaluate(x_test, y_test)\n",
    "print('Test loss:', score[0])\n",
    "print('Test accuracy:', score[1])"
   ]
  },
  {
   "cell_type": "code",
   "execution_count": 15,
   "metadata": {},
   "outputs": [
    {
     "data": {
      "image/png": "[encoded data removed]",
      "text/plain": [
       "<Figure size 432x288 with 1 Axes>"
      ]
     },
     "metadata": {
      "needs_background": "light"
     },
     "output_type": "display_data"
    }
   ],
   "source": [
    "plt.plot(history.history['acc'])\n",
    "plt.plot(history.history['val_acc'])\n",
    "plt.grid()\n",
    "plt.xlabel('Epochs')\n",
    "plt.ylabel('Accuracy')\n",
    "plt.legend(['train', 'test'])\n",
    "plt.show()"
   ]
  },
  {
   "cell_type": "code",
   "execution_count": 16,
   "metadata": {},
   "outputs": [
    {
     "data": {
      "image/png": "[encoded data removed]",
      "text/plain": [
       "<Figure size 432x288 with 1 Axes>"
      ]
     },
     "metadata": {
      "needs_background": "light"
     },
     "output_type": "display_data"
    }
   ],
   "source": [
    "plt.plot(history.history['loss'])\n",
    "plt.plot(history.history['val_loss'])\n",
    "plt.grid()\n",
    "plt.xlabel('Epochs')\n",
    "plt.ylabel('Cross-Entropy')\n",
    "plt.legend(['train', 'test'])\n",
    "plt.show()"
   ]
  },
  {
   "cell_type": "code",
   "execution_count": 17,
   "metadata": {},
   "outputs": [],
   "source": [
    "probabilidades = model.predict(x_test)\n",
    "y_pred = np.argmax(probabilidades, 1) #1=fila"
   ]
  },
  {
   "cell_type": "code",
   "execution_count": 18,
   "metadata": {},
   "outputs": [
    {
     "name": "stdout",
     "output_type": "stream",
     "text": [
      "[[2 0 0 1 2 0]\n",
      " [0 2 4 0 0 0]\n",
      " [0 2 3 0 0 0]\n",
      " [0 1 1 0 0 1]\n",
      " [1 4 2 0 1 0]\n",
      " [0 3 2 1 0 0]]\n"
     ]
    }
   ],
   "source": [
    "matrizConfusion = confusion_matrix(y_test, y_pred)\n",
    "print(matrizConfusion)"
   ]
  },
  {
   "cell_type": "code",
   "execution_count": 19,
   "metadata": {},
   "outputs": [
    {
     "name": "stdout",
     "output_type": "stream",
     "text": [
      "              precision    recall  f1-score   support\n",
      "\n",
      "           0       0.67      0.40      0.50         5\n",
      "           1       0.17      0.33      0.22         6\n",
      "           2       0.25      0.60      0.35         5\n",
      "           3       0.00      0.00      0.00         3\n",
      "           4       0.33      0.12      0.18         8\n",
      "           5       0.00      0.00      0.00         6\n",
      "\n",
      "   micro avg       0.24      0.24      0.24        33\n",
      "   macro avg       0.24      0.24      0.21        33\n",
      "weighted avg       0.25      0.24      0.21        33\n",
      "\n"
     ]
    }
   ],
   "source": [
    "reporteClassificacion = classification_report(y_test, y_pred)\n",
    "print(reporteClassificacion)"
   ]
  }
 ],
 "metadata": {
  "kernelspec": {
   "display_name": "Python 3",
   "language": "python",
   "name": "python3"
  },
  "language_info": {
   "codemirror_mode": {
    "name": "ipython",
    "version": 3
   },
   "file_extension": ".py",
   "mimetype": "text/x-python",
   "name": "python",
   "nbconvert_exporter": "python",
   "pygments_lexer": "ipython3",
   "version": "3.7.3"
  }
 },
 "nbformat": 4,
 "nbformat_minor": 2
}
